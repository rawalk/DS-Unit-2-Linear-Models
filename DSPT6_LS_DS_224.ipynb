{
  "nbformat": 4,
  "nbformat_minor": 0,
  "metadata": {
    "kernelspec": {
      "display_name": "Python 3",
      "language": "python",
      "name": "python3"
    },
    "language_info": {
      "codemirror_mode": {
        "name": "ipython",
        "version": 3
      },
      "file_extension": ".py",
      "mimetype": "text/x-python",
      "name": "python",
      "nbconvert_exporter": "python",
      "pygments_lexer": "ipython3",
      "version": "3.7.6"
    },
    "colab": {
      "name": "DSPT6_LS_DS_224.ipynb",
      "provenance": [],
      "collapsed_sections": [
        "Z1U7HdC6n_ia",
        "1aZSdskSn_jF",
        "O83kPwFHlIiw"
      ],
      "include_colab_link": true
    },
    "widgets": {
      "application/vnd.jupyter.widget-state+json": {
        "976d4022cbfa4007bcb6830112616e8e": {
          "model_module": "@jupyter-widgets/controls",
          "model_name": "VBoxModel",
          "state": {
            "_view_name": "VBoxView",
            "_dom_classes": [
              "widget-interact"
            ],
            "_model_name": "VBoxModel",
            "_view_module": "@jupyter-widgets/controls",
            "_model_module_version": "1.5.0",
            "_view_count": null,
            "_view_module_version": "1.5.0",
            "box_style": "",
            "layout": "IPY_MODEL_4406bd05fa4d484eb3c0d03e1267c8ef",
            "_model_module": "@jupyter-widgets/controls",
            "children": [
              "IPY_MODEL_9cd0547957cc4c5d90f8a16ed576e773",
              "IPY_MODEL_7cb471fce3e34459bd9aa2f46649c820"
            ]
          }
        },
        "4406bd05fa4d484eb3c0d03e1267c8ef": {
          "model_module": "@jupyter-widgets/base",
          "model_name": "LayoutModel",
          "state": {
            "_view_name": "LayoutView",
            "grid_template_rows": null,
            "right": null,
            "justify_content": null,
            "_view_module": "@jupyter-widgets/base",
            "overflow": null,
            "_model_module_version": "1.2.0",
            "_view_count": null,
            "flex_flow": null,
            "width": null,
            "min_width": null,
            "border": null,
            "align_items": null,
            "bottom": null,
            "_model_module": "@jupyter-widgets/base",
            "top": null,
            "grid_column": null,
            "overflow_y": null,
            "overflow_x": null,
            "grid_auto_flow": null,
            "grid_area": null,
            "grid_template_columns": null,
            "flex": null,
            "_model_name": "LayoutModel",
            "justify_items": null,
            "grid_row": null,
            "max_height": null,
            "align_content": null,
            "visibility": null,
            "align_self": null,
            "height": null,
            "min_height": null,
            "padding": null,
            "grid_auto_rows": null,
            "grid_gap": null,
            "max_width": null,
            "order": null,
            "_view_module_version": "1.2.0",
            "grid_template_areas": null,
            "object_position": null,
            "object_fit": null,
            "grid_auto_columns": null,
            "margin": null,
            "display": null,
            "left": null
          }
        },
        "9cd0547957cc4c5d90f8a16ed576e773": {
          "model_module": "@jupyter-widgets/controls",
          "model_name": "FloatSliderModel",
          "state": {
            "_view_name": "FloatSliderView",
            "style": "IPY_MODEL_edfb1d0bd7254838bc9ba91dafd97ae3",
            "_dom_classes": [],
            "description": "thres",
            "step": 0.05,
            "_model_name": "FloatSliderModel",
            "orientation": "horizontal",
            "max": 1,
            "_view_module": "@jupyter-widgets/controls",
            "_model_module_version": "1.5.0",
            "value": 0.95,
            "_view_count": null,
            "disabled": false,
            "_view_module_version": "1.5.0",
            "min": 0,
            "continuous_update": true,
            "readout_format": ".2f",
            "description_tooltip": null,
            "readout": true,
            "_model_module": "@jupyter-widgets/controls",
            "layout": "IPY_MODEL_121fa564cee341528a9a42785a534fc1"
          }
        },
        "7cb471fce3e34459bd9aa2f46649c820": {
          "model_module": "@jupyter-widgets/output",
          "model_name": "OutputModel",
          "state": {
            "_view_name": "OutputView",
            "msg_id": "",
            "_dom_classes": [],
            "_model_name": "OutputModel",
            "outputs": [
              {
                "output_type": "display_data",
                "metadata": {
                  "tags": [],
                  "needs_background": "light"
                },
                "image/png": "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\n",
                "text/plain": "<Figure size 432x288 with 1 Axes>"
              },
              {
                "output_type": "stream",
                "metadata": {
                  "tags": []
                },
                "text": "              precision    recall  f1-score   support\n\n       False       0.61      1.00      0.75      7798\n        True       0.99      0.23      0.37      6560\n\n    accuracy                           0.65     14358\n   macro avg       0.80      0.61      0.56     14358\nweighted avg       0.78      0.65      0.58     14358\n\n",
                "stream": "stdout"
              },
              {
                "output_type": "display_data",
                "metadata": {
                  "tags": [],
                  "needs_background": "light"
                },
                "image/png": "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\n",
                "text/plain": "<Figure size 720x576 with 2 Axes>"
              }
            ],
            "_view_module": "@jupyter-widgets/output",
            "_model_module_version": "1.0.0",
            "_view_count": null,
            "_view_module_version": "1.0.0",
            "layout": "IPY_MODEL_f84c766580004a828bf691ef598d41a4",
            "_model_module": "@jupyter-widgets/output"
          }
        },
        "edfb1d0bd7254838bc9ba91dafd97ae3": {
          "model_module": "@jupyter-widgets/controls",
          "model_name": "SliderStyleModel",
          "state": {
            "_view_name": "StyleView",
            "handle_color": null,
            "_model_name": "SliderStyleModel",
            "description_width": "",
            "_view_module": "@jupyter-widgets/base",
            "_model_module_version": "1.5.0",
            "_view_count": null,
            "_view_module_version": "1.2.0",
            "_model_module": "@jupyter-widgets/controls"
          }
        },
        "121fa564cee341528a9a42785a534fc1": {
          "model_module": "@jupyter-widgets/base",
          "model_name": "LayoutModel",
          "state": {
            "_view_name": "LayoutView",
            "grid_template_rows": null,
            "right": null,
            "justify_content": null,
            "_view_module": "@jupyter-widgets/base",
            "overflow": null,
            "_model_module_version": "1.2.0",
            "_view_count": null,
            "flex_flow": null,
            "width": null,
            "min_width": null,
            "border": null,
            "align_items": null,
            "bottom": null,
            "_model_module": "@jupyter-widgets/base",
            "top": null,
            "grid_column": null,
            "overflow_y": null,
            "overflow_x": null,
            "grid_auto_flow": null,
            "grid_area": null,
            "grid_template_columns": null,
            "flex": null,
            "_model_name": "LayoutModel",
            "justify_items": null,
            "grid_row": null,
            "max_height": null,
            "align_content": null,
            "visibility": null,
            "align_self": null,
            "height": null,
            "min_height": null,
            "padding": null,
            "grid_auto_rows": null,
            "grid_gap": null,
            "max_width": null,
            "order": null,
            "_view_module_version": "1.2.0",
            "grid_template_areas": null,
            "object_position": null,
            "object_fit": null,
            "grid_auto_columns": null,
            "margin": null,
            "display": null,
            "left": null
          }
        },
        "f84c766580004a828bf691ef598d41a4": {
          "model_module": "@jupyter-widgets/base",
          "model_name": "LayoutModel",
          "state": {
            "_view_name": "LayoutView",
            "grid_template_rows": null,
            "right": null,
            "justify_content": null,
            "_view_module": "@jupyter-widgets/base",
            "overflow": null,
            "_model_module_version": "1.2.0",
            "_view_count": null,
            "flex_flow": null,
            "width": null,
            "min_width": null,
            "border": null,
            "align_items": null,
            "bottom": null,
            "_model_module": "@jupyter-widgets/base",
            "top": null,
            "grid_column": null,
            "overflow_y": null,
            "overflow_x": null,
            "grid_auto_flow": null,
            "grid_area": null,
            "grid_template_columns": null,
            "flex": null,
            "_model_name": "LayoutModel",
            "justify_items": null,
            "grid_row": null,
            "max_height": null,
            "align_content": null,
            "visibility": null,
            "align_self": null,
            "height": null,
            "min_height": null,
            "padding": null,
            "grid_auto_rows": null,
            "grid_gap": null,
            "max_width": null,
            "order": null,
            "_view_module_version": "1.2.0",
            "grid_template_areas": null,
            "object_position": null,
            "object_fit": null,
            "grid_auto_columns": null,
            "margin": null,
            "display": null,
            "left": null
          }
        }
      }
    }
  },
  "cells": [
    {
      "cell_type": "markdown",
      "metadata": {
        "id": "view-in-github",
        "colab_type": "text"
      },
      "source": [
        "<a href=\"https://colab.research.google.com/github/rawalk/DS-Unit-2-Linear-Models/blob/master/DSPT6_LS_DS_224.ipynb\" target=\"_parent\"><img src=\"https://colab.research.google.com/assets/colab-badge.svg\" alt=\"Open In Colab\"/></a>"
      ]
    },
    {
      "cell_type": "markdown",
      "metadata": {
        "colab_type": "text",
        "id": "EZyiOteN16cD"
      },
      "source": [
        "Lambda School Data Science\n",
        "\n",
        "*Unit 2, Sprint 2, Module 4*\n",
        "\n",
        "---"
      ]
    },
    {
      "cell_type": "markdown",
      "metadata": {
        "colab_type": "text",
        "id": "KMI2k-oBsS08"
      },
      "source": [
        "# Classification Metrics\n",
        "\n",
        "- get and interpret the **confusion matrix** for classification models\n",
        "- use classification metrics: **precision, recall**\n",
        "- understand the relationships between precision, recall, **thresholds, and predicted probabilities**, to help **make decisions and allocate budgets**\n",
        "- Get **ROC AUC** (Receiver Operating Characteristic, Area Under the Curve)"
      ]
    },
    {
      "cell_type": "markdown",
      "metadata": {
        "colab_type": "text",
        "id": "rU7RuVcjWdcp"
      },
      "source": [
        "### Setup\n",
        "\n",
        "Run the code cell below. You can work locally (follow the [local setup instructions](https://lambdaschool.github.io/ds/unit2/local/)) or on Colab.\n",
        "\n",
        "Libraries\n",
        "\n",
        "- category_encoders\n",
        "- ipywidgets\n",
        "- matplotlib\n",
        "- numpy\n",
        "- pandas\n",
        "- scikit-learn\n",
        "- seaborn"
      ]
    },
    {
      "cell_type": "code",
      "metadata": {
        "colab_type": "code",
        "id": "OpFoag9QoTgA",
        "colab": {}
      },
      "source": [
        "%%capture\n",
        "import sys\n",
        "\n",
        "# If you're on Colab:\n",
        "if 'google.colab' in sys.modules:\n",
        "    DATA_PATH = 'https://raw.githubusercontent.com/LambdaSchool/DS-Unit-2-Kaggle-Challenge/master/data/'\n",
        "    !pip install category_encoders==2.*\n",
        "\n",
        "# If you're working locally:\n",
        "else:\n",
        "    DATA_PATH = '../data/'"
      ],
      "execution_count": 0,
      "outputs": []
    },
    {
      "cell_type": "markdown",
      "metadata": {
        "colab_type": "text",
        "id": "EfhziD2Wn_iO"
      },
      "source": [
        "# Get and interpret the confusion matrix for classification models"
      ]
    },
    {
      "cell_type": "markdown",
      "metadata": {
        "id": "H5DAaVh4lIg_",
        "colab_type": "text"
      },
      "source": [
        "## Overview"
      ]
    },
    {
      "cell_type": "markdown",
      "metadata": {
        "colab_type": "text",
        "id": "xZNCHldPn_iL"
      },
      "source": [
        "First, load the Tanzania Waterpumps data and fit a model. (This code isn't new, we've seen it all before.)"
      ]
    },
    {
      "cell_type": "code",
      "metadata": {
        "colab_type": "code",
        "id": "t8Cjxzrwn_iL",
        "outputId": "a260ad08-1a13-4181-f250-2e5effba051a",
        "colab": {
          "base_uri": "https://localhost:8080/",
          "height": 93
        }
      },
      "source": [
        "%matplotlib inline\n",
        "import category_encoders as ce\n",
        "import matplotlib.pyplot as plt\n",
        "import numpy as np\n",
        "import pandas as pd\n",
        "import seaborn as sns\n",
        "from sklearn.impute import SimpleImputer\n",
        "from sklearn.metrics import accuracy_score\n",
        "from sklearn.model_selection import train_test_split\n",
        "from sklearn.pipeline import make_pipeline\n",
        "from sklearn.ensemble import RandomForestClassifier\n",
        "\n",
        "def wrangle(X):\n",
        "    \"\"\"Wrangles train, validate, and test sets in the same way\"\"\"\n",
        "    X = X.copy()\n",
        "\n",
        "    # Convert date_recorded to datetime\n",
        "    X['date_recorded'] = pd.to_datetime(X['date_recorded'], infer_datetime_format=True)\n",
        "    \n",
        "    # Extract components from date_recorded, then drop the original column\n",
        "    X['year_recorded'] = X['date_recorded'].dt.year\n",
        "    X['month_recorded'] = X['date_recorded'].dt.month\n",
        "    X['day_recorded'] = X['date_recorded'].dt.day\n",
        "    X = X.drop(columns='date_recorded')\n",
        "    \n",
        "    # Engineer feature: how many years from construction_year to date_recorded\n",
        "    X['years'] = X['year_recorded'] - X['construction_year']    \n",
        "    \n",
        "    # Drop recorded_by (never varies) and id (always varies, random)\n",
        "    unusable_variance = ['recorded_by', 'id']\n",
        "    X = X.drop(columns=unusable_variance)\n",
        "    \n",
        "    # Drop duplicate columns\n",
        "    duplicate_columns = ['quantity_group']\n",
        "    X = X.drop(columns=duplicate_columns)\n",
        "    \n",
        "    # About 3% of the time, latitude has small values near zero,\n",
        "    # outside Tanzania, so we'll treat these like null values\n",
        "    X['latitude'] = X['latitude'].replace(-2e-08, np.nan)\n",
        "    \n",
        "    # When columns have zeros and shouldn't, they are like null values\n",
        "    cols_with_zeros = ['construction_year', 'longitude', 'latitude', 'gps_height', 'population']\n",
        "    for col in cols_with_zeros:\n",
        "        X[col] = X[col].replace(0, np.nan)\n",
        "        \n",
        "    return X\n",
        "\n",
        "\n",
        "# Merge train_features.csv & train_labels.csv\n",
        "train = pd.merge(pd.read_csv(DATA_PATH+'waterpumps/train_features.csv'), \n",
        "                 pd.read_csv(DATA_PATH+'waterpumps/train_labels.csv'))\n",
        "\n",
        "# Read test_features.csv & sample_submission.csv\n",
        "test = pd.read_csv(DATA_PATH+'waterpumps/test_features.csv')\n",
        "sample_submission = pd.read_csv(DATA_PATH+'waterpumps/sample_submission.csv')\n",
        "\n",
        "# Split train into train & val. Make val the same size as test.\n",
        "target = 'status_group'\n",
        "train, val = train_test_split(train, test_size=len(test),  \n",
        "                              stratify=train[target], random_state=42)\n",
        "\n",
        "# Wrangle train, validate, and test sets in the same way\n",
        "train = wrangle(train)\n",
        "val = wrangle(val)\n",
        "test = wrangle(test)\n",
        "\n",
        "# Arrange data into X features matrix and y target vector\n",
        "X_train = train.drop(columns=target)\n",
        "y_train = train[target]\n",
        "X_val = val.drop(columns=target)\n",
        "y_val = val[target]\n",
        "X_test = test\n",
        "\n",
        "# Make pipeline!\n",
        "pipeline = make_pipeline(\n",
        "    ce.OrdinalEncoder(), \n",
        "    SimpleImputer(strategy='mean'), \n",
        "    RandomForestClassifier(n_estimators=100, random_state=42, n_jobs=-1)\n",
        ")\n",
        "\n",
        "# Fit on train, score on val\n",
        "pipeline.fit(X_train, y_train)\n",
        "y_pred = pipeline.predict(X_val)\n",
        "print('Validation Accuracy', accuracy_score(y_val, y_pred))"
      ],
      "execution_count": 0,
      "outputs": [
        {
          "output_type": "stream",
          "text": [
            "/usr/local/lib/python3.6/dist-packages/statsmodels/tools/_testing.py:19: FutureWarning: pandas.util.testing is deprecated. Use the functions in the public API at pandas.testing instead.\n",
            "  import pandas.util.testing as tm\n"
          ],
          "name": "stderr"
        },
        {
          "output_type": "stream",
          "text": [
            "Validation Accuracy 0.8140409527789386\n"
          ],
          "name": "stdout"
        }
      ]
    },
    {
      "cell_type": "markdown",
      "metadata": {
        "id": "mZCC6E2JlIhH",
        "colab_type": "text"
      },
      "source": [
        "## Follow Along\n",
        "\n",
        "Scikit-learn added a [**`plot_confusion_matrix`**](https://scikit-learn.org/stable/modules/generated/sklearn.metrics.plot_confusion_matrix.html) function in version 0.22!"
      ]
    },
    {
      "cell_type": "code",
      "metadata": {
        "colab_type": "code",
        "id": "2MSWehj9n_iO",
        "outputId": "456ee9eb-91ba-4d26-b15e-6f81c727f700",
        "colab": {
          "base_uri": "https://localhost:8080/",
          "height": 36
        }
      },
      "source": [
        "import sklearn\n",
        "sklearn.__version__"
      ],
      "execution_count": 0,
      "outputs": [
        {
          "output_type": "execute_result",
          "data": {
            "text/plain": [
              "'0.22.2.post1'"
            ]
          },
          "metadata": {
            "tags": []
          },
          "execution_count": 3
        }
      ]
    },
    {
      "cell_type": "code",
      "metadata": {
        "id": "YITVJLAB5L58",
        "colab_type": "code",
        "outputId": "353908df-9ccc-44d8-92ee-2455f5c73752",
        "colab": {
          "base_uri": "https://localhost:8080/",
          "height": 408
        }
      },
      "source": [
        "from sklearn.metrics import plot_confusion_matrix\n",
        "\n",
        "plot_confusion_matrix(pipeline, X_val, y_val,\n",
        "                      values_format='.0f', xticks_rotation='vertical', cmap='Blues')"
      ],
      "execution_count": 0,
      "outputs": [
        {
          "output_type": "execute_result",
          "data": {
            "text/plain": [
              "<sklearn.metrics._plot.confusion_matrix.ConfusionMatrixDisplay at 0x7f2ab07232e8>"
            ]
          },
          "metadata": {
            "tags": []
          },
          "execution_count": 8
        },
        {
          "output_type": "display_data",
          "data": {
            "image/png": "[encoded data removed]",
            "text/plain": [
              "<Figure size 432x288 with 2 Axes>"
            ]
          },
          "metadata": {
            "tags": [],
            "needs_background": "light"
          }
        }
      ]
    },
    {
      "cell_type": "code",
      "metadata": {
        "id": "uMpamK_L6dDd",
        "colab_type": "code",
        "outputId": "0c16407e-2bd9-47d8-c65c-6c2d8590e99a",
        "colab": {
          "base_uri": "https://localhost:8080/",
          "height": 404
        }
      },
      "source": [
        "plot_confusion_matrix(pipeline, X_val, y_val,\n",
        "                      normalize='true',\n",
        "                      values_format='.2f', \n",
        "                      xticks_rotation='vertical', cmap='Blues')"
      ],
      "execution_count": 0,
      "outputs": [
        {
          "output_type": "execute_result",
          "data": {
            "text/plain": [
              "<sklearn.metrics._plot.confusion_matrix.ConfusionMatrixDisplay at 0x7f2ab05f1630>"
            ]
          },
          "metadata": {
            "tags": []
          },
          "execution_count": 10
        },
        {
          "output_type": "display_data",
          "data": {
            "image/png": "[encoded data removed]",
            "text/plain": [
              "<Figure size 432x288 with 2 Axes>"
            ]
          },
          "metadata": {
            "tags": [],
            "needs_background": "light"
          }
        }
      ]
    },
    {
      "cell_type": "code",
      "metadata": {
        "id": "pVmn2VBD8OAw",
        "colab_type": "code",
        "outputId": "9efd4f0e-0b1b-42b9-9505-bd8a9716debb",
        "colab": {
          "base_uri": "https://localhost:8080/",
          "height": 73
        }
      },
      "source": [
        "from sklearn.metrics import confusion_matrix\n",
        "cm = confusion_matrix(y_val, y_pred)\n",
        "cm"
      ],
      "execution_count": 0,
      "outputs": [
        {
          "output_type": "execute_result",
          "data": {
            "text/plain": [
              "array([[7005,  171,  622],\n",
              "       [ 555,  332,  156],\n",
              "       [1098,   68, 4351]])"
            ]
          },
          "metadata": {
            "tags": []
          },
          "execution_count": 14
        }
      ]
    },
    {
      "cell_type": "code",
      "metadata": {
        "id": "cLW7LnIE83xT",
        "colab_type": "code",
        "outputId": "830a86f4-ea75-4f15-bc6f-bb4f52768079",
        "colab": {
          "base_uri": "https://localhost:8080/",
          "height": 36
        }
      },
      "source": [
        "cm.sum(axis=1)"
      ],
      "execution_count": 0,
      "outputs": [
        {
          "output_type": "execute_result",
          "data": {
            "text/plain": [
              "array([7798, 1043, 5517])"
            ]
          },
          "metadata": {
            "tags": []
          },
          "execution_count": 23
        }
      ]
    },
    {
      "cell_type": "code",
      "metadata": {
        "id": "gis2k8YS8wg_",
        "colab_type": "code",
        "outputId": "4578b330-34a5-49bd-945d-6a11b76a2766",
        "colab": {
          "base_uri": "https://localhost:8080/",
          "height": 73
        }
      },
      "source": [
        "cm.sum(axis=1)[:, np.newaxis]"
      ],
      "execution_count": 0,
      "outputs": [
        {
          "output_type": "execute_result",
          "data": {
            "text/plain": [
              "array([[7798],\n",
              "       [1043],\n",
              "       [5517]])"
            ]
          },
          "metadata": {
            "tags": []
          },
          "execution_count": 24
        }
      ]
    },
    {
      "cell_type": "code",
      "metadata": {
        "id": "6UBoPqQp8dRK",
        "colab_type": "code",
        "outputId": "05334586-13fc-44ea-bb08-ca7dbd4d846a",
        "colab": {
          "base_uri": "https://localhost:8080/",
          "height": 73
        }
      },
      "source": [
        "normalized_cm = cm/cm.sum(axis=1)[:, np.newaxis]\n",
        "normalized_cm"
      ],
      "execution_count": 0,
      "outputs": [
        {
          "output_type": "execute_result",
          "data": {
            "text/plain": [
              "array([[0.89830726, 0.0219287 , 0.07976404],\n",
              "       [0.53211889, 0.31831256, 0.14956855],\n",
              "       [0.19902121, 0.01232554, 0.78865325]])"
            ]
          },
          "metadata": {
            "tags": []
          },
          "execution_count": 25
        }
      ]
    },
    {
      "cell_type": "code",
      "metadata": {
        "id": "IhyY2b1u9FiU",
        "colab_type": "code",
        "outputId": "39b457b2-e867-4c32-f7cd-644b74955af2",
        "colab": {
          "base_uri": "https://localhost:8080/",
          "height": 483
        }
      },
      "source": [
        "import seaborn as sns\n",
        "from sklearn.utils.multiclass import unique_labels\n",
        "\n",
        "def plot_cm(y_val, y_pred, normalize=False):\n",
        "  cols = unique_labels(y_val)\n",
        "  cm = confusion_matrix(y_val, y_pred)\n",
        "  if normalize:\n",
        "    cm = cm/cm.sum(axis=1)[:, np.newaxis]\n",
        "    fmt = '.2f'\n",
        "  else:\n",
        "    fmt = '.0f'\n",
        "  df_cm = pd.DataFrame(cm, columns = ['Predicted ' + str(col) for col in cols], \n",
        "                       index = ['Actual ' + str(col) for col in cols])\n",
        "  plt.figure(figsize=(10,8))\n",
        "  sns.heatmap(df_cm, annot=True, cmap='Blues', fmt=fmt)\n",
        "\n",
        "plot_cm(y_val, y_pred, normalize=True)"
      ],
      "execution_count": 0,
      "outputs": [
        {
          "output_type": "display_data",
          "data": {
            "image/png": "[encoded data removed]",
            "text/plain": [
              "<Figure size 720x576 with 2 Axes>"
            ]
          },
          "metadata": {
            "tags": [],
            "needs_background": "light"
          }
        }
      ]
    },
    {
      "cell_type": "code",
      "metadata": {
        "id": "khkaVywO9hrQ",
        "colab_type": "code",
        "outputId": "5f62cb0a-4a6e-4099-da7f-d905c9840d91",
        "colab": {
          "base_uri": "https://localhost:8080/",
          "height": 54
        }
      },
      "source": [
        "unique_labels(y_val)"
      ],
      "execution_count": 0,
      "outputs": [
        {
          "output_type": "execute_result",
          "data": {
            "text/plain": [
              "array(['functional', 'functional needs repair', 'non functional'],\n",
              "      dtype='<U23')"
            ]
          },
          "metadata": {
            "tags": []
          },
          "execution_count": 27
        }
      ]
    },
    {
      "cell_type": "markdown",
      "metadata": {
        "colab_type": "text",
        "id": "fP6FGBGUn_iQ"
      },
      "source": [
        "#### How many correct predictions were made?"
      ]
    },
    {
      "cell_type": "code",
      "metadata": {
        "colab_type": "code",
        "id": "wRSaYRPWn_iR",
        "outputId": "d84e2217-e145-4c5f-8deb-971cbd1022e6",
        "colab": {
          "base_uri": "https://localhost:8080/",
          "height": 36
        }
      },
      "source": [
        "7005 + 332 + 4351"
      ],
      "execution_count": 0,
      "outputs": [
        {
          "output_type": "execute_result",
          "data": {
            "text/plain": [
              "11688"
            ]
          },
          "metadata": {
            "tags": []
          },
          "execution_count": 11
        }
      ]
    },
    {
      "cell_type": "code",
      "metadata": {
        "id": "3b2rGcRt_kh7",
        "colab_type": "code",
        "outputId": "7a6f8e92-8d7d-4763-b7bb-afbe9aaef104",
        "colab": {
          "base_uri": "https://localhost:8080/",
          "height": 36
        }
      },
      "source": [
        "np.diag(cm).sum()"
      ],
      "execution_count": 0,
      "outputs": [
        {
          "output_type": "execute_result",
          "data": {
            "text/plain": [
              "11688"
            ]
          },
          "metadata": {
            "tags": []
          },
          "execution_count": 38
        }
      ]
    },
    {
      "cell_type": "markdown",
      "metadata": {
        "colab_type": "text",
        "id": "-q-3R7Ean_iT"
      },
      "source": [
        "#### How many total predictions were made?"
      ]
    },
    {
      "cell_type": "code",
      "metadata": {
        "colab_type": "code",
        "id": "vLAQL05fn_iT",
        "outputId": "10b3d3a5-661c-4f95-deb3-0f6962cc5734",
        "colab": {
          "base_uri": "https://localhost:8080/",
          "height": 36
        }
      },
      "source": [
        "len(y_val)"
      ],
      "execution_count": 0,
      "outputs": [
        {
          "output_type": "execute_result",
          "data": {
            "text/plain": [
              "14358"
            ]
          },
          "metadata": {
            "tags": []
          },
          "execution_count": 12
        }
      ]
    },
    {
      "cell_type": "code",
      "metadata": {
        "id": "z5quOHPE_O9j",
        "colab_type": "code",
        "outputId": "9ed48d94-1741-4e2f-ed25-6f5a7ee4b2a9",
        "colab": {
          "base_uri": "https://localhost:8080/",
          "height": 36
        }
      },
      "source": [
        "cm.sum()"
      ],
      "execution_count": 0,
      "outputs": [
        {
          "output_type": "execute_result",
          "data": {
            "text/plain": [
              "14358"
            ]
          },
          "metadata": {
            "tags": []
          },
          "execution_count": 34
        }
      ]
    },
    {
      "cell_type": "markdown",
      "metadata": {
        "colab_type": "text",
        "id": "K1yQ_jYPn_iV"
      },
      "source": [
        "#### What was the classification accuracy?"
      ]
    },
    {
      "cell_type": "code",
      "metadata": {
        "colab_type": "code",
        "id": "fskAC6SYn_iW",
        "outputId": "ff9d79a2-85f9-4058-d42d-025f3a1f5adb",
        "colab": {
          "base_uri": "https://localhost:8080/",
          "height": 36
        }
      },
      "source": [
        "(7005 + 332 + 4351)/len(y_pred)"
      ],
      "execution_count": 0,
      "outputs": [
        {
          "output_type": "execute_result",
          "data": {
            "text/plain": [
              "0.8140409527789386"
            ]
          },
          "metadata": {
            "tags": []
          },
          "execution_count": 35
        }
      ]
    },
    {
      "cell_type": "code",
      "metadata": {
        "id": "gDACE7f-_VNy",
        "colab_type": "code",
        "outputId": "1ff5e19f-815b-429f-dac4-5f206815275a",
        "colab": {
          "base_uri": "https://localhost:8080/",
          "height": 36
        }
      },
      "source": [
        "np.diag(cm).sum()/cm.sum()"
      ],
      "execution_count": 0,
      "outputs": [
        {
          "output_type": "execute_result",
          "data": {
            "text/plain": [
              "0.8140409527789386"
            ]
          },
          "metadata": {
            "tags": []
          },
          "execution_count": 39
        }
      ]
    },
    {
      "cell_type": "code",
      "metadata": {
        "id": "OzwehGQC_qXx",
        "colab_type": "code",
        "outputId": "05b7db85-1c73-467b-802f-d8564c0051aa",
        "colab": {
          "base_uri": "https://localhost:8080/",
          "height": 36
        }
      },
      "source": [
        "from sklearn.metrics import accuracy_score\n",
        "accuracy_score(y_val, y_pred)"
      ],
      "execution_count": 0,
      "outputs": [
        {
          "output_type": "execute_result",
          "data": {
            "text/plain": [
              "0.8140409527789386"
            ]
          },
          "metadata": {
            "tags": []
          },
          "execution_count": 40
        }
      ]
    },
    {
      "cell_type": "markdown",
      "metadata": {
        "colab_type": "text",
        "id": "EqFgEm3tn_iY"
      },
      "source": [
        "# Use classification metrics: precision, recall"
      ]
    },
    {
      "cell_type": "markdown",
      "metadata": {
        "id": "-2Kp55RClIhb",
        "colab_type": "text"
      },
      "source": [
        "## Overview\n",
        "\n",
        "[Scikit-Learn User Guide — Classification Report](https://scikit-learn.org/stable/modules/model_evaluation.html#classification-report)"
      ]
    },
    {
      "cell_type": "code",
      "metadata": {
        "colab_type": "code",
        "id": "mGv7OLL4n_iY",
        "outputId": "1c3c32cb-cfbd-4302-e2fd-9f520a63721d",
        "colab": {
          "base_uri": "https://localhost:8080/",
          "height": 202
        }
      },
      "source": [
        "from sklearn.metrics import classification_report\n",
        "\n",
        "print(classification_report(y_val, y_pred))"
      ],
      "execution_count": 0,
      "outputs": [
        {
          "output_type": "stream",
          "text": [
            "                         precision    recall  f1-score   support\n",
            "\n",
            "             functional       0.81      0.90      0.85      7798\n",
            "functional needs repair       0.58      0.32      0.41      1043\n",
            "         non functional       0.85      0.79      0.82      5517\n",
            "\n",
            "               accuracy                           0.81     14358\n",
            "              macro avg       0.75      0.67      0.69     14358\n",
            "           weighted avg       0.81      0.81      0.81     14358\n",
            "\n"
          ],
          "name": "stdout"
        }
      ]
    },
    {
      "cell_type": "markdown",
      "metadata": {
        "colab_type": "text",
        "id": "Z1U7HdC6n_ia"
      },
      "source": [
        "#### Wikipedia, [Precision and recall](https://en.wikipedia.org/wiki/Precision_and_recall)\n",
        "\n",
        "> Both precision and recall are based on an understanding and measure of relevance.\n",
        "\n",
        "> Suppose a computer program for recognizing dogs in photographs identifies 8 dogs in a picture containing 12 dogs and some cats. Of the 8 identified as dogs, 5 actually are dogs (true positives), while the rest are cats (false positives). The program's precision is 5/8 while its recall is 5/12.\n",
        "\n",
        "> High precision means that an algorithm returned substantially more relevant results than irrelevant ones, while high recall means that an algorithm returned most of the relevant results.\n",
        "\n",
        "<img src=\"https://upload.wikimedia.org/wikipedia/commons/thumb/2/26/Precisionrecall.svg/700px-Precisionrecall.svg.png\" width=\"400\">"
      ]
    },
    {
      "cell_type": "markdown",
      "metadata": {
        "id": "jWgD0CwNlIhh",
        "colab_type": "text"
      },
      "source": [
        "## Follow Along"
      ]
    },
    {
      "cell_type": "markdown",
      "metadata": {
        "colab_type": "text",
        "id": "50R-Xhwdn_ie"
      },
      "source": [
        "#### [We can get precision & recall from the confusion matrix](https://en.wikipedia.org/wiki/Precision_and_recall#Definition_(classification_context))"
      ]
    },
    {
      "cell_type": "code",
      "metadata": {
        "colab_type": "code",
        "id": "eIta6Vwsn_if",
        "outputId": "e4f928bb-8e39-4d2e-8b04-08f46509771c",
        "colab": {
          "base_uri": "https://localhost:8080/",
          "height": 486
        }
      },
      "source": [
        "plot_cm(y_val, y_pred)"
      ],
      "execution_count": 0,
      "outputs": [
        {
          "output_type": "display_data",
          "data": {
            "image/png": "[encoded data removed]",
            "text/plain": [
              "<Figure size 720x576 with 2 Axes>"
            ]
          },
          "metadata": {
            "tags": [],
            "needs_background": "light"
          }
        }
      ]
    },
    {
      "cell_type": "markdown",
      "metadata": {
        "colab_type": "text",
        "id": "iY2rfzA4n_ih"
      },
      "source": [
        "#### How many correct predictions of \"non functional\"?"
      ]
    },
    {
      "cell_type": "code",
      "metadata": {
        "colab_type": "code",
        "id": "O-anLkCin_ii",
        "colab": {}
      },
      "source": [
        "correct_pred_non_func = 4351"
      ],
      "execution_count": 0,
      "outputs": []
    },
    {
      "cell_type": "markdown",
      "metadata": {
        "colab_type": "text",
        "id": "pYM6f99cn_ij"
      },
      "source": [
        "#### How many total predictions of \"non functional\"?"
      ]
    },
    {
      "cell_type": "code",
      "metadata": {
        "colab_type": "code",
        "id": "_qCiA8j2n_ik",
        "outputId": "935170d2-4b40-42fa-c7d7-7bf57d96b2fe",
        "colab": {
          "base_uri": "https://localhost:8080/",
          "height": 36
        }
      },
      "source": [
        "total_pred_non_func = 4351 + 156 + 622\n",
        "total_pred_non_func"
      ],
      "execution_count": 0,
      "outputs": [
        {
          "output_type": "execute_result",
          "data": {
            "text/plain": [
              "5129"
            ]
          },
          "metadata": {
            "tags": []
          },
          "execution_count": 48
        }
      ]
    },
    {
      "cell_type": "markdown",
      "metadata": {
        "colab_type": "text",
        "id": "mXNuZ_Rnn_il"
      },
      "source": [
        "#### What's the precision for \"non functional\"?"
      ]
    },
    {
      "cell_type": "code",
      "metadata": {
        "colab_type": "code",
        "id": "X1f7VsyXn_im",
        "outputId": "e5bc297f-8a57-4457-d43c-0a410b6b3d43",
        "colab": {
          "base_uri": "https://localhost:8080/",
          "height": 36
        }
      },
      "source": [
        "precision_non_func = correct_pred_non_func/total_pred_non_func\n",
        "precision_non_func"
      ],
      "execution_count": 0,
      "outputs": [
        {
          "output_type": "execute_result",
          "data": {
            "text/plain": [
              "0.8483135114057321"
            ]
          },
          "metadata": {
            "tags": []
          },
          "execution_count": 55
        }
      ]
    },
    {
      "cell_type": "markdown",
      "metadata": {
        "colab_type": "text",
        "id": "ci4QguAkn_in"
      },
      "source": [
        "#### How many actual \"non functional\" waterpumps?"
      ]
    },
    {
      "cell_type": "code",
      "metadata": {
        "colab_type": "code",
        "id": "FlqxNhlYn_io",
        "outputId": "a95e112d-b216-48e2-bd9d-c7e133e43d3f",
        "colab": {
          "base_uri": "https://localhost:8080/",
          "height": 36
        }
      },
      "source": [
        "actual_non_func = 1098 + 68 + 4351\n",
        "actual_non_func"
      ],
      "execution_count": 0,
      "outputs": [
        {
          "output_type": "execute_result",
          "data": {
            "text/plain": [
              "5517"
            ]
          },
          "metadata": {
            "tags": []
          },
          "execution_count": 50
        }
      ]
    },
    {
      "cell_type": "markdown",
      "metadata": {
        "colab_type": "text",
        "id": "9IY-vC-hn_iq"
      },
      "source": [
        "#### What's the recall for \"non functional\"?"
      ]
    },
    {
      "cell_type": "code",
      "metadata": {
        "colab_type": "code",
        "id": "4U3v8lPP4KbP",
        "outputId": "0df31b32-c590-428c-b46f-00e4993d03b8",
        "colab": {
          "base_uri": "https://localhost:8080/",
          "height": 36
        }
      },
      "source": [
        "recall_non_func = correct_pred_non_func/actual_non_func\n",
        "recall_non_func"
      ],
      "execution_count": 0,
      "outputs": [
        {
          "output_type": "execute_result",
          "data": {
            "text/plain": [
              "0.7886532535798442"
            ]
          },
          "metadata": {
            "tags": []
          },
          "execution_count": 54
        }
      ]
    },
    {
      "cell_type": "code",
      "metadata": {
        "id": "cpo9pZdsEWJb",
        "colab_type": "code",
        "outputId": "338c128f-91ae-4874-c08f-093767c914f6",
        "colab": {
          "base_uri": "https://localhost:8080/",
          "height": 202
        }
      },
      "source": [
        "print(classification_report(y_val, y_pred))"
      ],
      "execution_count": 0,
      "outputs": [
        {
          "output_type": "stream",
          "text": [
            "                         precision    recall  f1-score   support\n",
            "\n",
            "             functional       0.81      0.90      0.85      7798\n",
            "functional needs repair       0.58      0.32      0.41      1043\n",
            "         non functional       0.85      0.79      0.82      5517\n",
            "\n",
            "               accuracy                           0.81     14358\n",
            "              macro avg       0.75      0.67      0.69     14358\n",
            "           weighted avg       0.81      0.81      0.81     14358\n",
            "\n"
          ],
          "name": "stdout"
        }
      ]
    },
    {
      "cell_type": "code",
      "metadata": {
        "id": "6klXTVKUEeDl",
        "colab_type": "code",
        "outputId": "4845d2d3-1776-441c-93e2-ff1cc65b8b08",
        "colab": {
          "base_uri": "https://localhost:8080/",
          "height": 36
        }
      },
      "source": [
        "f1_score_non_func = 2*(precision_non_func*recall_non_func)/(precision_non_func + recall_non_func)\n",
        "f1_score_non_func"
      ],
      "execution_count": 0,
      "outputs": [
        {
          "output_type": "execute_result",
          "data": {
            "text/plain": [
              "0.8173962051474731"
            ]
          },
          "metadata": {
            "tags": []
          },
          "execution_count": 56
        }
      ]
    },
    {
      "cell_type": "markdown",
      "metadata": {
        "colab_type": "text",
        "id": "ObVED_ugn_is"
      },
      "source": [
        "# Understand the relationships between precision, recall, thresholds, and predicted probabilities, to help make decisions and allocate budgets"
      ]
    },
    {
      "cell_type": "markdown",
      "metadata": {
        "id": "yhFH3IVZlIh9",
        "colab_type": "text"
      },
      "source": [
        "## Overview"
      ]
    },
    {
      "cell_type": "markdown",
      "metadata": {
        "colab_type": "text",
        "id": "kBcQQJ2kn_is"
      },
      "source": [
        "### Imagine this scenario...\n",
        "\n",
        "Suppose there are over 14,000 waterpumps that you _do_ have some information about, but you _don't_ know whether they are currently functional, or functional but need repair, or non-functional."
      ]
    },
    {
      "cell_type": "code",
      "metadata": {
        "colab_type": "code",
        "id": "jEEy86CHn_it",
        "outputId": "887fbb3c-3f51-43ba-a615-abb11b34e5a2",
        "colab": {
          "base_uri": "https://localhost:8080/",
          "height": 36
        }
      },
      "source": [
        "len(test)"
      ],
      "execution_count": 0,
      "outputs": [
        {
          "output_type": "execute_result",
          "data": {
            "text/plain": [
              "14358"
            ]
          },
          "metadata": {
            "tags": []
          },
          "execution_count": 61
        }
      ]
    },
    {
      "cell_type": "markdown",
      "metadata": {
        "colab_type": "text",
        "id": "3az2llAAn_iu"
      },
      "source": [
        "**You have the time and resources to go to just 2,000 waterpumps for proactive maintenance.** You want to predict, which 2,000 are most likely non-functional or in need of repair, to help you triage and prioritize your waterpump inspections.\n",
        "\n",
        "You have historical inspection data for over 59,000 other waterpumps, which you'll use to fit your predictive model."
      ]
    },
    {
      "cell_type": "code",
      "metadata": {
        "colab_type": "code",
        "id": "pEWc2zt2n_iv",
        "outputId": "3539ee16-7791-48bb-be11-aaccf7249152",
        "colab": {
          "base_uri": "https://localhost:8080/",
          "height": 36
        }
      },
      "source": [
        "len(train) + len(val)"
      ],
      "execution_count": 0,
      "outputs": [
        {
          "output_type": "execute_result",
          "data": {
            "text/plain": [
              "59400"
            ]
          },
          "metadata": {
            "tags": []
          },
          "execution_count": 62
        }
      ]
    },
    {
      "cell_type": "markdown",
      "metadata": {
        "colab_type": "text",
        "id": "L2LiGJLin_ix"
      },
      "source": [
        "You have historical inspection data for over 59,000 other waterpumps, which you'll use to fit your predictive model.\n",
        "\n",
        "Based on this historical data, if you randomly chose waterpumps to inspect, then about 46% of the waterpumps would need repairs, and 54% would not need repairs."
      ]
    },
    {
      "cell_type": "code",
      "metadata": {
        "colab_type": "code",
        "id": "JliDXTp5n_iy",
        "outputId": "96d62c93-b2bf-4521-81ee-2be3f6678282",
        "colab": {
          "base_uri": "https://localhost:8080/",
          "height": 91
        }
      },
      "source": [
        "y_train.value_counts(normalize=True)"
      ],
      "execution_count": 0,
      "outputs": [
        {
          "output_type": "execute_result",
          "data": {
            "text/plain": [
              "functional                 0.543071\n",
              "non functional             0.384241\n",
              "functional needs repair    0.072688\n",
              "Name: status_group, dtype: float64"
            ]
          },
          "metadata": {
            "tags": []
          },
          "execution_count": 63
        }
      ]
    },
    {
      "cell_type": "code",
      "metadata": {
        "colab_type": "code",
        "id": "0dP7fjQJeQEX",
        "outputId": "a240c3e9-8726-4bef-d938-cb785841e5d9",
        "colab": {
          "base_uri": "https://localhost:8080/",
          "height": 36
        }
      },
      "source": [
        "2000 * 0.46"
      ],
      "execution_count": 0,
      "outputs": [
        {
          "output_type": "execute_result",
          "data": {
            "text/plain": [
              "920.0"
            ]
          },
          "metadata": {
            "tags": []
          },
          "execution_count": 64
        }
      ]
    },
    {
      "cell_type": "markdown",
      "metadata": {
        "colab_type": "text",
        "id": "dLnJ7Fnan_i1"
      },
      "source": [
        "**Can you do better than random at prioritizing inspections?**"
      ]
    },
    {
      "cell_type": "markdown",
      "metadata": {
        "colab_type": "text",
        "id": "sIh2Xj8fn_i3"
      },
      "source": [
        "In this scenario, we should define our target differently. We want to identify which waterpumps are non-functional _or_ are functional but needs repair:"
      ]
    },
    {
      "cell_type": "code",
      "metadata": {
        "colab_type": "code",
        "id": "7naqusI0n_i4",
        "outputId": "82d5f80a-79b0-4852-eb9e-b8bf9a0e8f83",
        "colab": {
          "base_uri": "https://localhost:8080/",
          "height": 73
        }
      },
      "source": [
        "y_train = y_train != 'functional'\n",
        "y_val = y_val != 'functional'\n",
        "y_train.value_counts(normalize=True)"
      ],
      "execution_count": 0,
      "outputs": [
        {
          "output_type": "execute_result",
          "data": {
            "text/plain": [
              "False    0.543071\n",
              "True     0.456929\n",
              "Name: status_group, dtype: float64"
            ]
          },
          "metadata": {
            "tags": []
          },
          "execution_count": 65
        }
      ]
    },
    {
      "cell_type": "markdown",
      "metadata": {
        "colab_type": "text",
        "id": "P1UR1t8Zn_i6"
      },
      "source": [
        "We already made our validation set the same size as our test set."
      ]
    },
    {
      "cell_type": "code",
      "metadata": {
        "colab_type": "code",
        "id": "CHHIplB7n_i8",
        "outputId": "46492f8d-d307-4d94-9691-49617ece3cf6",
        "colab": {
          "base_uri": "https://localhost:8080/",
          "height": 36
        }
      },
      "source": [
        "len(val) == len(test)"
      ],
      "execution_count": 0,
      "outputs": [
        {
          "output_type": "execute_result",
          "data": {
            "text/plain": [
              "True"
            ]
          },
          "metadata": {
            "tags": []
          },
          "execution_count": 66
        }
      ]
    },
    {
      "cell_type": "markdown",
      "metadata": {
        "colab_type": "text",
        "id": "g41DA70rn_i9"
      },
      "source": [
        "We can refit our model, using the redefined target.\n",
        "\n",
        "Then make predictions for the validation set."
      ]
    },
    {
      "cell_type": "code",
      "metadata": {
        "colab_type": "code",
        "id": "VXL0LaXQn_i-",
        "colab": {}
      },
      "source": [
        "pipeline.fit(X_train, y_train)\n",
        "y_pred = pipeline.predict(X_val)"
      ],
      "execution_count": 0,
      "outputs": []
    },
    {
      "cell_type": "markdown",
      "metadata": {
        "id": "Rg8Kn44YlIiW",
        "colab_type": "text"
      },
      "source": [
        "## Follow Along"
      ]
    },
    {
      "cell_type": "markdown",
      "metadata": {
        "colab_type": "text",
        "id": "qISPzM43n_jA"
      },
      "source": [
        "#### Look at the confusion matrix:"
      ]
    },
    {
      "cell_type": "code",
      "metadata": {
        "colab_type": "code",
        "id": "y72fakpmn_jB",
        "outputId": "02625eed-2de2-4834-eb24-64f0f0c34059",
        "colab": {
          "base_uri": "https://localhost:8080/",
          "height": 483
        }
      },
      "source": [
        "plot_cm(y_val, y_pred)"
      ],
      "execution_count": 0,
      "outputs": [
        {
          "output_type": "display_data",
          "data": {
            "image/png": "[encoded data removed]",
            "text/plain": [
              "<Figure size 720x576 with 2 Axes>"
            ]
          },
          "metadata": {
            "tags": [],
            "needs_background": "light"
          }
        }
      ]
    },
    {
      "cell_type": "markdown",
      "metadata": {
        "colab_type": "text",
        "id": "M30BXR6Rn_jC"
      },
      "source": [
        "#### How many total predictions of \"True\" (\"non functional\" or \"functional needs repair\") ?"
      ]
    },
    {
      "cell_type": "code",
      "metadata": {
        "id": "TktrMzWdGxDw",
        "colab_type": "code",
        "outputId": "27232710-7c17-4879-a52c-98bb3ec989ef",
        "colab": {
          "base_uri": "https://localhost:8080/",
          "height": 36
        }
      },
      "source": [
        "y_pred"
      ],
      "execution_count": 0,
      "outputs": [
        {
          "output_type": "execute_result",
          "data": {
            "text/plain": [
              "array([ True,  True, False, ..., False,  True, False])"
            ]
          },
          "metadata": {
            "tags": []
          },
          "execution_count": 69
        }
      ]
    },
    {
      "cell_type": "code",
      "metadata": {
        "id": "9fZCt_6TG3fy",
        "colab_type": "code",
        "outputId": "2184ae18-ba87-40cb-bdf8-5c0ca92148c4",
        "colab": {
          "base_uri": "https://localhost:8080/",
          "height": 36
        }
      },
      "source": [
        "5032+977"
      ],
      "execution_count": 0,
      "outputs": [
        {
          "output_type": "execute_result",
          "data": {
            "text/plain": [
              "6009"
            ]
          },
          "metadata": {
            "tags": []
          },
          "execution_count": 71
        }
      ]
    },
    {
      "cell_type": "code",
      "metadata": {
        "colab_type": "code",
        "id": "4IeTJFo8n_jD",
        "outputId": "1ed4abd6-5d7f-469b-ef3e-b039dd5a1682",
        "colab": {
          "base_uri": "https://localhost:8080/",
          "height": 36
        }
      },
      "source": [
        "y_pred.sum()"
      ],
      "execution_count": 0,
      "outputs": [
        {
          "output_type": "execute_result",
          "data": {
            "text/plain": [
              "6009"
            ]
          },
          "metadata": {
            "tags": []
          },
          "execution_count": 70
        }
      ]
    },
    {
      "cell_type": "markdown",
      "metadata": {
        "colab_type": "text",
        "id": "1aZSdskSn_jF"
      },
      "source": [
        "### We don't have \"budget\" to take action on all these predictions\n",
        "\n",
        "- But we can get predicted probabilities, to rank the predictions. \n",
        "- Then change the threshold, to change the number of positive predictions, based on our budget."
      ]
    },
    {
      "cell_type": "markdown",
      "metadata": {
        "colab_type": "text",
        "id": "rXkfXDDZn_jF"
      },
      "source": [
        "### Get predicted probabilities and plot the distribution"
      ]
    },
    {
      "cell_type": "code",
      "metadata": {
        "colab_type": "code",
        "id": "jwfe7j7W_jTp",
        "outputId": "b67b8d08-70ec-47c7-d9f0-43fd9cb23e9c",
        "colab": {
          "base_uri": "https://localhost:8080/",
          "height": 147
        }
      },
      "source": [
        "pipeline.predict_proba(X_val)"
      ],
      "execution_count": 0,
      "outputs": [
        {
          "output_type": "execute_result",
          "data": {
            "text/plain": [
              "array([[0.  , 1.  ],\n",
              "       [0.26, 0.74],\n",
              "       [0.9 , 0.1 ],\n",
              "       ...,\n",
              "       [0.91, 0.09],\n",
              "       [0.41, 0.59],\n",
              "       [0.98, 0.02]])"
            ]
          },
          "metadata": {
            "tags": []
          },
          "execution_count": 72
        }
      ]
    },
    {
      "cell_type": "code",
      "metadata": {
        "id": "2CZYi0TRHS8X",
        "colab_type": "code",
        "outputId": "6392bac7-f440-431b-d43b-7ab754bff641",
        "colab": {
          "base_uri": "https://localhost:8080/",
          "height": 36
        }
      },
      "source": [
        "pipeline.predict(X_val)"
      ],
      "execution_count": 0,
      "outputs": [
        {
          "output_type": "execute_result",
          "data": {
            "text/plain": [
              "array([ True,  True, False, ..., False,  True, False])"
            ]
          },
          "metadata": {
            "tags": []
          },
          "execution_count": 73
        }
      ]
    },
    {
      "cell_type": "code",
      "metadata": {
        "id": "YC48uwIhHjbd",
        "colab_type": "code",
        "outputId": "6b34bb87-b376-4cb0-ceb7-e5d2801773c4",
        "colab": {
          "base_uri": "https://localhost:8080/",
          "height": 36
        }
      },
      "source": [
        "pipeline.predict_proba(X_val)[:, 1] > 0.5"
      ],
      "execution_count": 0,
      "outputs": [
        {
          "output_type": "execute_result",
          "data": {
            "text/plain": [
              "array([ True,  True, False, ..., False,  True, False])"
            ]
          },
          "metadata": {
            "tags": []
          },
          "execution_count": 75
        }
      ]
    },
    {
      "cell_type": "code",
      "metadata": {
        "id": "i9Euwud8H8N-",
        "colab_type": "code",
        "outputId": "08ce9a7d-8f4d-4236-f66a-9e84dcf28c66",
        "colab": {
          "base_uri": "https://localhost:8080/",
          "height": 284
        }
      },
      "source": [
        "y_pred_proba = pipeline.predict_proba(X_val)[:, 1]\n",
        "sns.distplot(y_pred_proba)"
      ],
      "execution_count": 0,
      "outputs": [
        {
          "output_type": "execute_result",
          "data": {
            "text/plain": [
              "<matplotlib.axes._subplots.AxesSubplot at 0x7f2aafa81c18>"
            ]
          },
          "metadata": {
            "tags": []
          },
          "execution_count": 76
        },
        {
          "output_type": "display_data",
          "data": {
            "image/png": "[encoded data removed]",
            "text/plain": [
              "<Figure size 432x288 with 1 Axes>"
            ]
          },
          "metadata": {
            "tags": [],
            "needs_background": "light"
          }
        }
      ]
    },
    {
      "cell_type": "markdown",
      "metadata": {
        "colab_type": "text",
        "id": "eD6pRFKOn_jH"
      },
      "source": [
        "### Change the threshold"
      ]
    },
    {
      "cell_type": "code",
      "metadata": {
        "colab_type": "code",
        "id": "SjOhH0BMB55A",
        "outputId": "e5019558-5b69-4f90-fb6f-1dae4de4250c",
        "colab": {
          "base_uri": "https://localhost:8080/",
          "height": 321
        }
      },
      "source": [
        "thres = 0.5\n",
        "y_pred = y_pred_proba > thres\n",
        "ax = sns.distplot(y_pred_proba)\n",
        "ax.axvline(thres, color='red')\n",
        "pd.Series(y_pred).value_counts()"
      ],
      "execution_count": 0,
      "outputs": [
        {
          "output_type": "execute_result",
          "data": {
            "text/plain": [
              "False    8349\n",
              "True     6009\n",
              "dtype: int64"
            ]
          },
          "metadata": {
            "tags": []
          },
          "execution_count": 82
        },
        {
          "output_type": "display_data",
          "data": {
            "image/png": "[encoded data removed]",
            "text/plain": [
              "<Figure size 432x288 with 1 Axes>"
            ]
          },
          "metadata": {
            "tags": [],
            "needs_background": "light"
          }
        }
      ]
    },
    {
      "cell_type": "markdown",
      "metadata": {
        "id": "P23ysdAklIik",
        "colab_type": "text"
      },
      "source": [
        "### Or, get exactly 2,000 positive predictions"
      ]
    },
    {
      "cell_type": "markdown",
      "metadata": {
        "id": "0I0jwq0JlIik",
        "colab_type": "text"
      },
      "source": [
        "Identify the 2,000 waterpumps in the validation set with highest predicted probabilities."
      ]
    },
    {
      "cell_type": "code",
      "metadata": {
        "id": "CyQcoz8jlIil",
        "colab_type": "code",
        "outputId": "845fbd69-c8ea-473c-955f-9963c7094446",
        "colab": {
          "base_uri": "https://localhost:8080/",
          "height": 898
        }
      },
      "source": [
        "def set_thres(y_true, y_pred_proba, thres=0.5):\n",
        "  y_pred = y_pred_proba > thres\n",
        "  ax = sns.distplot(y_pred_proba)\n",
        "  ax.axvline(thres, color='red')\n",
        "  plt.show()\n",
        "  print(classification_report(y_true, y_pred))\n",
        "  plot_cm(y_true, y_pred)\n",
        "\n",
        "set_thres(y_val, y_pred_proba, thres=0.6)"
      ],
      "execution_count": 0,
      "outputs": [
        {
          "output_type": "display_data",
          "data": {
            "image/png": "[encoded data removed]",
            "text/plain": [
              "<Figure size 432x288 with 1 Axes>"
            ]
          },
          "metadata": {
            "tags": [],
            "needs_background": "light"
          }
        },
        {
          "output_type": "stream",
          "text": [
            "              precision    recall  f1-score   support\n",
            "\n",
            "       False       0.78      0.94      0.85      7798\n",
            "        True       0.90      0.68      0.77      6560\n",
            "\n",
            "    accuracy                           0.82     14358\n",
            "   macro avg       0.84      0.81      0.81     14358\n",
            "weighted avg       0.83      0.82      0.81     14358\n",
            "\n"
          ],
          "name": "stdout"
        },
        {
          "output_type": "display_data",
          "data": {
            "image/png": "[encoded data removed]",
            "text/plain": [
              "<Figure size 720x576 with 2 Axes>"
            ]
          },
          "metadata": {
            "tags": [],
            "needs_background": "light"
          }
        }
      ]
    },
    {
      "cell_type": "code",
      "metadata": {
        "id": "Qicla_uBJsC5",
        "colab_type": "code",
        "outputId": "6134313e-203e-4554-f18b-f30b1b3552c2",
        "colab": {
          "base_uri": "https://localhost:8080/",
          "height": 948,
          "referenced_widgets": [
            "976d4022cbfa4007bcb6830112616e8e",
            "4406bd05fa4d484eb3c0d03e1267c8ef",
            "9cd0547957cc4c5d90f8a16ed576e773",
            "7cb471fce3e34459bd9aa2f46649c820",
            "edfb1d0bd7254838bc9ba91dafd97ae3",
            "121fa564cee341528a9a42785a534fc1",
            "f84c766580004a828bf691ef598d41a4"
          ]
        }
      },
      "source": [
        "from ipywidgets import interact, fixed\n",
        "\n",
        "interact(set_thres, \n",
        "         y_true=fixed(y_val), \n",
        "         y_pred_proba=fixed(y_pred_proba), \n",
        "         thres=(0, 1, 0.05))"
      ],
      "execution_count": 0,
      "outputs": [
        {
          "output_type": "display_data",
          "data": {
            "application/vnd.jupyter.widget-view+json": {
              "model_id": "976d4022cbfa4007bcb6830112616e8e",
              "version_minor": 0,
              "version_major": 2
            },
            "text/plain": [
              "interactive(children=(FloatSlider(value=0.5, description='thres', max=1.0, step=0.05), Output()), _dom_classes…"
            ]
          },
          "metadata": {
            "tags": []
          }
        },
        {
          "output_type": "execute_result",
          "data": {
            "text/plain": [
              "<function __main__.set_thres>"
            ]
          },
          "metadata": {
            "tags": []
          },
          "execution_count": 85
        }
      ]
    },
    {
      "cell_type": "markdown",
      "metadata": {
        "id": "6Q9MmE6AlIin",
        "colab_type": "text"
      },
      "source": [
        "Most of these top 2,000 waterpumps will be relevant recommendations, meaning `y_val==True`, meaning the waterpump is non-functional or needs repairs.\n",
        "\n",
        "Some of these top 2,000 waterpumps will be irrelevant recommendations, meaning `y_val==False`, meaning the waterpump is functional and does not need repairs.\n",
        "\n",
        "Let's look at a random sample of 50 out of these top 2,000:"
      ]
    },
    {
      "cell_type": "code",
      "metadata": {
        "id": "yZTP9BROlIin",
        "colab_type": "code",
        "outputId": "cc486da5-e809-483c-d643-ac5f111adbff",
        "colab": {
          "base_uri": "https://localhost:8080/",
          "height": 424
        }
      },
      "source": [
        "results = pd.DataFrame({'y_val': y_val, 'y_pred_proba': y_pred_proba})\n",
        "top2000 = results.sort_values(by='y_pred_proba', ascending=False)[:2000]\n",
        "top2000"
      ],
      "execution_count": 0,
      "outputs": [
        {
          "output_type": "execute_result",
          "data": {
            "text/html": [
              "<div>\n",
              "<style scoped>\n",
              "    .dataframe tbody tr th:only-of-type {\n",
              "        vertical-align: middle;\n",
              "    }\n",
              "\n",
              "    .dataframe tbody tr th {\n",
              "        vertical-align: top;\n",
              "    }\n",
              "\n",
              "    .dataframe thead th {\n",
              "        text-align: right;\n",
              "    }\n",
              "</style>\n",
              "<table border=\"1\" class=\"dataframe\">\n",
              "  <thead>\n",
              "    <tr style=\"text-align: right;\">\n",
              "      <th></th>\n",
              "      <th>y_val</th>\n",
              "      <th>y_pred_proba</th>\n",
              "    </tr>\n",
              "  </thead>\n",
              "  <tbody>\n",
              "    <tr>\n",
              "      <th>58046</th>\n",
              "      <td>True</td>\n",
              "      <td>1.00</td>\n",
              "    </tr>\n",
              "    <tr>\n",
              "      <th>6288</th>\n",
              "      <td>True</td>\n",
              "      <td>1.00</td>\n",
              "    </tr>\n",
              "    <tr>\n",
              "      <th>27470</th>\n",
              "      <td>True</td>\n",
              "      <td>1.00</td>\n",
              "    </tr>\n",
              "    <tr>\n",
              "      <th>41452</th>\n",
              "      <td>True</td>\n",
              "      <td>1.00</td>\n",
              "    </tr>\n",
              "    <tr>\n",
              "      <th>3337</th>\n",
              "      <td>True</td>\n",
              "      <td>1.00</td>\n",
              "    </tr>\n",
              "    <tr>\n",
              "      <th>...</th>\n",
              "      <td>...</td>\n",
              "      <td>...</td>\n",
              "    </tr>\n",
              "    <tr>\n",
              "      <th>30643</th>\n",
              "      <td>True</td>\n",
              "      <td>0.93</td>\n",
              "    </tr>\n",
              "    <tr>\n",
              "      <th>14010</th>\n",
              "      <td>True</td>\n",
              "      <td>0.93</td>\n",
              "    </tr>\n",
              "    <tr>\n",
              "      <th>22524</th>\n",
              "      <td>True</td>\n",
              "      <td>0.93</td>\n",
              "    </tr>\n",
              "    <tr>\n",
              "      <th>55253</th>\n",
              "      <td>True</td>\n",
              "      <td>0.93</td>\n",
              "    </tr>\n",
              "    <tr>\n",
              "      <th>39829</th>\n",
              "      <td>True</td>\n",
              "      <td>0.93</td>\n",
              "    </tr>\n",
              "  </tbody>\n",
              "</table>\n",
              "<p>2000 rows × 2 columns</p>\n",
              "</div>"
            ],
            "text/plain": [
              "       y_val  y_pred_proba\n",
              "58046   True          1.00\n",
              "6288    True          1.00\n",
              "27470   True          1.00\n",
              "41452   True          1.00\n",
              "3337    True          1.00\n",
              "...      ...           ...\n",
              "30643   True          0.93\n",
              "14010   True          0.93\n",
              "22524   True          0.93\n",
              "55253   True          0.93\n",
              "39829   True          0.93\n",
              "\n",
              "[2000 rows x 2 columns]"
            ]
          },
          "metadata": {
            "tags": []
          },
          "execution_count": 87
        }
      ]
    },
    {
      "cell_type": "code",
      "metadata": {
        "id": "98-WXwePLuhP",
        "colab_type": "code",
        "outputId": "d5adb49e-c096-4002-dd37-d9b24b417d44",
        "colab": {
          "base_uri": "https://localhost:8080/",
          "height": 1000
        }
      },
      "source": [
        "top2000.sample(n=50)"
      ],
      "execution_count": 0,
      "outputs": [
        {
          "output_type": "execute_result",
          "data": {
            "text/html": [
              "<div>\n",
              "<style scoped>\n",
              "    .dataframe tbody tr th:only-of-type {\n",
              "        vertical-align: middle;\n",
              "    }\n",
              "\n",
              "    .dataframe tbody tr th {\n",
              "        vertical-align: top;\n",
              "    }\n",
              "\n",
              "    .dataframe thead th {\n",
              "        text-align: right;\n",
              "    }\n",
              "</style>\n",
              "<table border=\"1\" class=\"dataframe\">\n",
              "  <thead>\n",
              "    <tr style=\"text-align: right;\">\n",
              "      <th></th>\n",
              "      <th>y_val</th>\n",
              "      <th>y_pred_proba</th>\n",
              "    </tr>\n",
              "  </thead>\n",
              "  <tbody>\n",
              "    <tr>\n",
              "      <th>56215</th>\n",
              "      <td>True</td>\n",
              "      <td>0.99</td>\n",
              "    </tr>\n",
              "    <tr>\n",
              "      <th>29465</th>\n",
              "      <td>True</td>\n",
              "      <td>0.96</td>\n",
              "    </tr>\n",
              "    <tr>\n",
              "      <th>19063</th>\n",
              "      <td>True</td>\n",
              "      <td>0.96</td>\n",
              "    </tr>\n",
              "    <tr>\n",
              "      <th>5440</th>\n",
              "      <td>True</td>\n",
              "      <td>0.94</td>\n",
              "    </tr>\n",
              "    <tr>\n",
              "      <th>10105</th>\n",
              "      <td>True</td>\n",
              "      <td>0.99</td>\n",
              "    </tr>\n",
              "    <tr>\n",
              "      <th>59128</th>\n",
              "      <td>True</td>\n",
              "      <td>0.99</td>\n",
              "    </tr>\n",
              "    <tr>\n",
              "      <th>31026</th>\n",
              "      <td>True</td>\n",
              "      <td>1.00</td>\n",
              "    </tr>\n",
              "    <tr>\n",
              "      <th>794</th>\n",
              "      <td>True</td>\n",
              "      <td>0.97</td>\n",
              "    </tr>\n",
              "    <tr>\n",
              "      <th>18487</th>\n",
              "      <td>True</td>\n",
              "      <td>0.99</td>\n",
              "    </tr>\n",
              "    <tr>\n",
              "      <th>14723</th>\n",
              "      <td>True</td>\n",
              "      <td>0.99</td>\n",
              "    </tr>\n",
              "    <tr>\n",
              "      <th>28742</th>\n",
              "      <td>True</td>\n",
              "      <td>0.99</td>\n",
              "    </tr>\n",
              "    <tr>\n",
              "      <th>38565</th>\n",
              "      <td>True</td>\n",
              "      <td>0.96</td>\n",
              "    </tr>\n",
              "    <tr>\n",
              "      <th>25643</th>\n",
              "      <td>True</td>\n",
              "      <td>0.95</td>\n",
              "    </tr>\n",
              "    <tr>\n",
              "      <th>54248</th>\n",
              "      <td>True</td>\n",
              "      <td>0.95</td>\n",
              "    </tr>\n",
              "    <tr>\n",
              "      <th>40315</th>\n",
              "      <td>True</td>\n",
              "      <td>0.99</td>\n",
              "    </tr>\n",
              "    <tr>\n",
              "      <th>40665</th>\n",
              "      <td>True</td>\n",
              "      <td>0.94</td>\n",
              "    </tr>\n",
              "    <tr>\n",
              "      <th>2107</th>\n",
              "      <td>True</td>\n",
              "      <td>0.99</td>\n",
              "    </tr>\n",
              "    <tr>\n",
              "      <th>14851</th>\n",
              "      <td>True</td>\n",
              "      <td>0.94</td>\n",
              "    </tr>\n",
              "    <tr>\n",
              "      <th>20934</th>\n",
              "      <td>True</td>\n",
              "      <td>0.97</td>\n",
              "    </tr>\n",
              "    <tr>\n",
              "      <th>28036</th>\n",
              "      <td>True</td>\n",
              "      <td>0.98</td>\n",
              "    </tr>\n",
              "    <tr>\n",
              "      <th>28879</th>\n",
              "      <td>True</td>\n",
              "      <td>0.97</td>\n",
              "    </tr>\n",
              "    <tr>\n",
              "      <th>32908</th>\n",
              "      <td>True</td>\n",
              "      <td>0.99</td>\n",
              "    </tr>\n",
              "    <tr>\n",
              "      <th>30869</th>\n",
              "      <td>True</td>\n",
              "      <td>1.00</td>\n",
              "    </tr>\n",
              "    <tr>\n",
              "      <th>8139</th>\n",
              "      <td>True</td>\n",
              "      <td>0.99</td>\n",
              "    </tr>\n",
              "    <tr>\n",
              "      <th>56114</th>\n",
              "      <td>True</td>\n",
              "      <td>0.98</td>\n",
              "    </tr>\n",
              "    <tr>\n",
              "      <th>16919</th>\n",
              "      <td>True</td>\n",
              "      <td>0.99</td>\n",
              "    </tr>\n",
              "    <tr>\n",
              "      <th>42798</th>\n",
              "      <td>True</td>\n",
              "      <td>0.99</td>\n",
              "    </tr>\n",
              "    <tr>\n",
              "      <th>29094</th>\n",
              "      <td>False</td>\n",
              "      <td>0.93</td>\n",
              "    </tr>\n",
              "    <tr>\n",
              "      <th>29303</th>\n",
              "      <td>True</td>\n",
              "      <td>0.95</td>\n",
              "    </tr>\n",
              "    <tr>\n",
              "      <th>54617</th>\n",
              "      <td>True</td>\n",
              "      <td>0.97</td>\n",
              "    </tr>\n",
              "    <tr>\n",
              "      <th>22524</th>\n",
              "      <td>True</td>\n",
              "      <td>0.93</td>\n",
              "    </tr>\n",
              "    <tr>\n",
              "      <th>49721</th>\n",
              "      <td>True</td>\n",
              "      <td>1.00</td>\n",
              "    </tr>\n",
              "    <tr>\n",
              "      <th>34835</th>\n",
              "      <td>True</td>\n",
              "      <td>1.00</td>\n",
              "    </tr>\n",
              "    <tr>\n",
              "      <th>16573</th>\n",
              "      <td>True</td>\n",
              "      <td>1.00</td>\n",
              "    </tr>\n",
              "    <tr>\n",
              "      <th>43606</th>\n",
              "      <td>True</td>\n",
              "      <td>0.99</td>\n",
              "    </tr>\n",
              "    <tr>\n",
              "      <th>28390</th>\n",
              "      <td>True</td>\n",
              "      <td>0.93</td>\n",
              "    </tr>\n",
              "    <tr>\n",
              "      <th>18459</th>\n",
              "      <td>True</td>\n",
              "      <td>1.00</td>\n",
              "    </tr>\n",
              "    <tr>\n",
              "      <th>39671</th>\n",
              "      <td>True</td>\n",
              "      <td>0.99</td>\n",
              "    </tr>\n",
              "    <tr>\n",
              "      <th>53942</th>\n",
              "      <td>True</td>\n",
              "      <td>0.99</td>\n",
              "    </tr>\n",
              "    <tr>\n",
              "      <th>24023</th>\n",
              "      <td>True</td>\n",
              "      <td>0.95</td>\n",
              "    </tr>\n",
              "    <tr>\n",
              "      <th>20068</th>\n",
              "      <td>True</td>\n",
              "      <td>0.98</td>\n",
              "    </tr>\n",
              "    <tr>\n",
              "      <th>29856</th>\n",
              "      <td>True</td>\n",
              "      <td>0.94</td>\n",
              "    </tr>\n",
              "    <tr>\n",
              "      <th>2360</th>\n",
              "      <td>True</td>\n",
              "      <td>1.00</td>\n",
              "    </tr>\n",
              "    <tr>\n",
              "      <th>9469</th>\n",
              "      <td>True</td>\n",
              "      <td>0.93</td>\n",
              "    </tr>\n",
              "    <tr>\n",
              "      <th>31840</th>\n",
              "      <td>True</td>\n",
              "      <td>0.96</td>\n",
              "    </tr>\n",
              "    <tr>\n",
              "      <th>6596</th>\n",
              "      <td>True</td>\n",
              "      <td>1.00</td>\n",
              "    </tr>\n",
              "    <tr>\n",
              "      <th>25441</th>\n",
              "      <td>True</td>\n",
              "      <td>0.96</td>\n",
              "    </tr>\n",
              "    <tr>\n",
              "      <th>31573</th>\n",
              "      <td>True</td>\n",
              "      <td>0.95</td>\n",
              "    </tr>\n",
              "    <tr>\n",
              "      <th>44147</th>\n",
              "      <td>True</td>\n",
              "      <td>0.98</td>\n",
              "    </tr>\n",
              "    <tr>\n",
              "      <th>45595</th>\n",
              "      <td>True</td>\n",
              "      <td>0.95</td>\n",
              "    </tr>\n",
              "  </tbody>\n",
              "</table>\n",
              "</div>"
            ],
            "text/plain": [
              "       y_val  y_pred_proba\n",
              "56215   True          0.99\n",
              "29465   True          0.96\n",
              "19063   True          0.96\n",
              "5440    True          0.94\n",
              "10105   True          0.99\n",
              "59128   True          0.99\n",
              "31026   True          1.00\n",
              "794     True          0.97\n",
              "18487   True          0.99\n",
              "14723   True          0.99\n",
              "28742   True          0.99\n",
              "38565   True          0.96\n",
              "25643   True          0.95\n",
              "54248   True          0.95\n",
              "40315   True          0.99\n",
              "40665   True          0.94\n",
              "2107    True          0.99\n",
              "14851   True          0.94\n",
              "20934   True          0.97\n",
              "28036   True          0.98\n",
              "28879   True          0.97\n",
              "32908   True          0.99\n",
              "30869   True          1.00\n",
              "8139    True          0.99\n",
              "56114   True          0.98\n",
              "16919   True          0.99\n",
              "42798   True          0.99\n",
              "29094  False          0.93\n",
              "29303   True          0.95\n",
              "54617   True          0.97\n",
              "22524   True          0.93\n",
              "49721   True          1.00\n",
              "34835   True          1.00\n",
              "16573   True          1.00\n",
              "43606   True          0.99\n",
              "28390   True          0.93\n",
              "18459   True          1.00\n",
              "39671   True          0.99\n",
              "53942   True          0.99\n",
              "24023   True          0.95\n",
              "20068   True          0.98\n",
              "29856   True          0.94\n",
              "2360    True          1.00\n",
              "9469    True          0.93\n",
              "31840   True          0.96\n",
              "6596    True          1.00\n",
              "25441   True          0.96\n",
              "31573   True          0.95\n",
              "44147   True          0.98\n",
              "45595   True          0.95"
            ]
          },
          "metadata": {
            "tags": []
          },
          "execution_count": 89
        }
      ]
    },
    {
      "cell_type": "markdown",
      "metadata": {
        "id": "zhtDpR0blIiq",
        "colab_type": "text"
      },
      "source": [
        "So how many of our recommendations were relevant? ..."
      ]
    },
    {
      "cell_type": "code",
      "metadata": {
        "id": "3CtU1fVFlIir",
        "colab_type": "code",
        "outputId": "b206f1b0-14af-4f5e-9568-e2505a8a23dd",
        "colab": {
          "base_uri": "https://localhost:8080/",
          "height": 54
        }
      },
      "source": [
        "n_trips = 2000\n",
        "print(f'Baseline: {n_trips*0.46} waterpump repairs in {n_trips} trips')\n",
        "print(f\"With model: {top2000['y_val'].sum()} waterpump repairs in {n_trips} trips\")"
      ],
      "execution_count": 0,
      "outputs": [
        {
          "output_type": "stream",
          "text": [
            "Baseline: 920.0 waterpump repairs in 2000 trips\n",
            "With model: 1972 waterpump repairs in 2000 trips\n"
          ],
          "name": "stdout"
        }
      ]
    },
    {
      "cell_type": "markdown",
      "metadata": {
        "id": "LBPJ2cvqlIit",
        "colab_type": "text"
      },
      "source": [
        "What's the precision for this subset of 2,000 predictions?"
      ]
    },
    {
      "cell_type": "code",
      "metadata": {
        "id": "iP0fIBIAlIit",
        "colab_type": "code",
        "outputId": "893bf1d7-d63a-4a90-def0-6fa037c76576",
        "colab": {
          "base_uri": "https://localhost:8080/",
          "height": 36
        }
      },
      "source": [
        "precision_at_K = top2000['y_val'].sum()/n_trips\n",
        "print(f'Precision @ K=2000: {precision_at_K}')"
      ],
      "execution_count": 0,
      "outputs": [
        {
          "output_type": "stream",
          "text": [
            "Precision @ K=2000: 0.986\n"
          ],
          "name": "stdout"
        }
      ]
    },
    {
      "cell_type": "markdown",
      "metadata": {
        "colab_type": "text",
        "id": "top80m_Gn_jI"
      },
      "source": [
        "### In this scenario ... \n",
        "\n",
        "Accuracy _isn't_ the best metric!\n",
        "\n",
        "Instead, change the threshold, to change the number of positive predictions, based on the budget. (You have the time and resources to go to just 2,000 waterpumps for proactive maintenance.)\n",
        "\n",
        "Then, evaluate with the precision for \"non functional\"/\"functional needs repair\".\n",
        "\n",
        "This is conceptually like **Precision@K**, where k=2,000.\n",
        "\n",
        "Read more here: [Recall and Precision at k for Recommender Systems: Detailed Explanation with examples](https://medium.com/@m_n_malaeb/recall-and-precision-at-k-for-recommender-systems-618483226c54)\n",
        "\n",
        "> Precision at k is the proportion of recommended items in the top-k set that are relevant\n",
        "\n",
        "> Mathematically precision@k is defined as: `Precision@k = (# of recommended items @k that are relevant) / (# of recommended items @k)`\n",
        "\n",
        "> In the context of recommendation systems we are most likely interested in recommending top-N items to the user. So it makes more sense to compute precision and recall metrics in the first N items instead of all the items. Thus the notion of precision and recall at k where k is a user definable integer that is set by the user to match the top-N recommendations objective.\n",
        "\n",
        "We asked, can you do better than random at prioritizing inspections?\n",
        "\n",
        "If we had randomly chosen waterpumps to inspect, we estimate that only 920 waterpumps would be repaired after 2,000 maintenance visits. (46%)\n",
        "\n",
        "But using our predictive model, in the validation set, we succesfully identified over 1,900 waterpumps in need of repair!\n",
        "\n",
        "So we will use this predictive model with the dataset of over 14,000 waterpumps that we _do_ have some information about, but we _don't_ know whether they are currently functional, or functional but need repair, or non-functional.\n",
        "\n",
        "We will predict which 2,000 are most likely non-functional or in need of repair.\n",
        "\n",
        "We estimate that approximately 1,900 waterpumps will be repaired after these 2,000 maintenance visits.\n",
        "\n",
        "So we're confident that our predictive model will help triage and prioritize waterpump inspections."
      ]
    },
    {
      "cell_type": "markdown",
      "metadata": {
        "id": "O83kPwFHlIiw",
        "colab_type": "text"
      },
      "source": [
        "### But ...\n",
        "\n",
        "This metric (~1,900 waterpumps repaired after 2,000 maintenance visits) is specific for _one_ classification problem and _one_ possible trade-off.\n",
        "\n",
        "Can we get an evaluation metric that is generic for _all_ classification problems and _all_ possible trade-offs?\n",
        "\n",
        "Yes — the most common such metric is **ROC AUC.**"
      ]
    },
    {
      "cell_type": "markdown",
      "metadata": {
        "id": "FAGg0qVrlIiw",
        "colab_type": "text"
      },
      "source": [
        "## Get ROC AUC (Receiver Operating Characteristic, Area Under the Curve)\n",
        "\n",
        "[Wikipedia explains,](https://en.wikipedia.org/wiki/Receiver_operating_characteristic) \"A receiver operating characteristic curve, or ROC curve, is a graphical plot that illustrates the diagnostic ability of a binary classifier system as its discrimination threshold is varied. **The ROC curve is created by plotting the true positive rate (TPR) against the false positive rate (FPR) at various threshold settings.**\"\n",
        "\n",
        "ROC AUC is the area under the ROC curve. [It can be interpreted](https://stats.stackexchange.com/questions/132777/what-does-auc-stand-for-and-what-is-it) as \"the expectation that a uniformly drawn random positive is ranked before a uniformly drawn random negative.\" \n",
        "\n",
        "ROC AUC measures **how well a classifier ranks predicted probabilities.** So, when you get your classifier’s ROC AUC score, you need to **use predicted probabilities, not discrete predictions.**\n",
        "\n",
        "ROC AUC ranges **from 0 to 1.** Higher is better. A naive majority class **baseline** will have an ROC AUC score of **0.5.** \n",
        "\n",
        "#### Scikit-Learn docs\n",
        "- [User Guide: Receiver operating characteristic (ROC)](https://scikit-learn.org/stable/modules/model_evaluation.html#receiver-operating-characteristic-roc)\n",
        "- [sklearn.metrics.roc_curve](https://scikit-learn.org/stable/modules/generated/sklearn.metrics.roc_curve.html)\n",
        "- [sklearn.metrics.roc_auc_score](https://scikit-learn.org/stable/modules/generated/sklearn.metrics.roc_auc_score.html)\n",
        "\n",
        "#### More links\n",
        "- [ROC curves and Area Under the Curve explained](https://www.dataschool.io/roc-curves-and-auc-explained/)\n",
        "- [The philosophical argument for using ROC curves](https://lukeoakdenrayner.wordpress.com/2018/01/07/the-philosophical-argument-for-using-roc-curves/)"
      ]
    },
    {
      "cell_type": "code",
      "metadata": {
        "id": "tyVSYxtylIix",
        "colab_type": "code",
        "colab": {}
      },
      "source": [
        "# \"The ROC curve is created by plotting the true positive rate (TPR) \n",
        "# against the false positive rate (FPR) \n",
        "# at various threshold settings.\"\n",
        "\n",
        "# Use scikit-learn to calculate TPR & FPR at various thresholds\n",
        "from sklearn.metrics import roc_curve\n",
        "fpr, tpr, thresholds = roc_curve(y_val, y_pred_proba)"
      ],
      "execution_count": 0,
      "outputs": []
    },
    {
      "cell_type": "code",
      "metadata": {
        "id": "QogaJ7THlIiy",
        "colab_type": "code",
        "outputId": "38b85104-2bce-457c-ffcf-1c8e710ace99",
        "colab": {
          "base_uri": "https://localhost:8080/",
          "height": 424
        }
      },
      "source": [
        "# See the results in a table\n",
        "pd.DataFrame({\n",
        "    'False Positive Rate': fpr, \n",
        "    'True Positive Rate': tpr, \n",
        "    'Threshold': thresholds\n",
        "})"
      ],
      "execution_count": 0,
      "outputs": [
        {
          "output_type": "execute_result",
          "data": {
            "text/html": [
              "<div>\n",
              "<style scoped>\n",
              "    .dataframe tbody tr th:only-of-type {\n",
              "        vertical-align: middle;\n",
              "    }\n",
              "\n",
              "    .dataframe tbody tr th {\n",
              "        vertical-align: top;\n",
              "    }\n",
              "\n",
              "    .dataframe thead th {\n",
              "        text-align: right;\n",
              "    }\n",
              "</style>\n",
              "<table border=\"1\" class=\"dataframe\">\n",
              "  <thead>\n",
              "    <tr style=\"text-align: right;\">\n",
              "      <th></th>\n",
              "      <th>False Positive Rate</th>\n",
              "      <th>True Positive Rate</th>\n",
              "      <th>Threshold</th>\n",
              "    </tr>\n",
              "  </thead>\n",
              "  <tbody>\n",
              "    <tr>\n",
              "      <th>0</th>\n",
              "      <td>0.000000</td>\n",
              "      <td>0.000000</td>\n",
              "      <td>2.00</td>\n",
              "    </tr>\n",
              "    <tr>\n",
              "      <th>1</th>\n",
              "      <td>0.000385</td>\n",
              "      <td>0.062652</td>\n",
              "      <td>1.00</td>\n",
              "    </tr>\n",
              "    <tr>\n",
              "      <th>2</th>\n",
              "      <td>0.000641</td>\n",
              "      <td>0.114787</td>\n",
              "      <td>0.99</td>\n",
              "    </tr>\n",
              "    <tr>\n",
              "      <th>3</th>\n",
              "      <td>0.000769</td>\n",
              "      <td>0.155793</td>\n",
              "      <td>0.98</td>\n",
              "    </tr>\n",
              "    <tr>\n",
              "      <th>4</th>\n",
              "      <td>0.001282</td>\n",
              "      <td>0.196037</td>\n",
              "      <td>0.97</td>\n",
              "    </tr>\n",
              "    <tr>\n",
              "      <th>...</th>\n",
              "      <td>...</td>\n",
              "      <td>...</td>\n",
              "      <td>...</td>\n",
              "    </tr>\n",
              "    <tr>\n",
              "      <th>102</th>\n",
              "      <td>0.882662</td>\n",
              "      <td>0.996341</td>\n",
              "      <td>0.04</td>\n",
              "    </tr>\n",
              "    <tr>\n",
              "      <th>103</th>\n",
              "      <td>0.904976</td>\n",
              "      <td>0.997104</td>\n",
              "      <td>0.03</td>\n",
              "    </tr>\n",
              "    <tr>\n",
              "      <th>104</th>\n",
              "      <td>0.930239</td>\n",
              "      <td>0.998171</td>\n",
              "      <td>0.02</td>\n",
              "    </tr>\n",
              "    <tr>\n",
              "      <th>105</th>\n",
              "      <td>0.954604</td>\n",
              "      <td>0.998933</td>\n",
              "      <td>0.01</td>\n",
              "    </tr>\n",
              "    <tr>\n",
              "      <th>106</th>\n",
              "      <td>1.000000</td>\n",
              "      <td>1.000000</td>\n",
              "      <td>0.00</td>\n",
              "    </tr>\n",
              "  </tbody>\n",
              "</table>\n",
              "<p>107 rows × 3 columns</p>\n",
              "</div>"
            ],
            "text/plain": [
              "     False Positive Rate  True Positive Rate  Threshold\n",
              "0               0.000000            0.000000       2.00\n",
              "1               0.000385            0.062652       1.00\n",
              "2               0.000641            0.114787       0.99\n",
              "3               0.000769            0.155793       0.98\n",
              "4               0.001282            0.196037       0.97\n",
              "..                   ...                 ...        ...\n",
              "102             0.882662            0.996341       0.04\n",
              "103             0.904976            0.997104       0.03\n",
              "104             0.930239            0.998171       0.02\n",
              "105             0.954604            0.998933       0.01\n",
              "106             1.000000            1.000000       0.00\n",
              "\n",
              "[107 rows x 3 columns]"
            ]
          },
          "metadata": {
            "tags": []
          },
          "execution_count": 94
        }
      ]
    },
    {
      "cell_type": "code",
      "metadata": {
        "id": "8WgOl3bwlIi1",
        "colab_type": "code",
        "outputId": "0edc088e-e052-480a-b2f6-d3f1c51d40a2",
        "colab": {
          "base_uri": "https://localhost:8080/",
          "height": 295
        }
      },
      "source": [
        "# See the results on a plot. \n",
        "# This is the \"Receiver Operating Characteristic\" curve\n",
        "plt.scatter(fpr, tpr)\n",
        "plt.title('ROC curve')\n",
        "plt.xlabel('False Positive Rate')\n",
        "plt.ylabel('True Positive Rate');"
      ],
      "execution_count": 0,
      "outputs": [
        {
          "output_type": "display_data",
          "data": {
            "image/png": "[encoded data removed]",
            "text/plain": [
              "<Figure size 432x288 with 1 Axes>"
            ]
          },
          "metadata": {
            "tags": [],
            "needs_background": "light"
          }
        }
      ]
    },
    {
      "cell_type": "code",
      "metadata": {
        "id": "LEFuFrkmlIi3",
        "colab_type": "code",
        "outputId": "1da1f914-22c2-4ebc-f7f7-4c035209c249",
        "colab": {
          "base_uri": "https://localhost:8080/",
          "height": 36
        }
      },
      "source": [
        "# Use scikit-learn to calculate the area under the curve.\n",
        "from sklearn.metrics import roc_auc_score\n",
        "roc_auc_score(y_val, y_pred_proba)"
      ],
      "execution_count": 0,
      "outputs": [
        {
          "output_type": "execute_result",
          "data": {
            "text/plain": [
              "0.9024268359147749"
            ]
          },
          "metadata": {
            "tags": []
          },
          "execution_count": 96
        }
      ]
    },
    {
      "cell_type": "code",
      "metadata": {
        "id": "67GIv2GcQ-tV",
        "colab_type": "code",
        "outputId": "bd0f35da-e2ce-4ff9-a206-c36065d8d66c",
        "colab": {
          "base_uri": "https://localhost:8080/",
          "height": 36
        }
      },
      "source": [
        "y_pred"
      ],
      "execution_count": 0,
      "outputs": [
        {
          "output_type": "execute_result",
          "data": {
            "text/plain": [
              "array([ True,  True, False, ..., False,  True, False])"
            ]
          },
          "metadata": {
            "tags": []
          },
          "execution_count": 99
        }
      ]
    },
    {
      "cell_type": "code",
      "metadata": {
        "id": "TCWdTkDsQ9dZ",
        "colab_type": "code",
        "outputId": "8e4583f4-7de1-4b66-f935-bed27fcfbaea",
        "colab": {
          "base_uri": "https://localhost:8080/",
          "height": 36
        }
      },
      "source": [
        "roc_auc_score(y_val, y_pred)"
      ],
      "execution_count": 0,
      "outputs": [
        {
          "output_type": "execute_result",
          "data": {
            "text/plain": [
              "0.8208923176048895"
            ]
          },
          "metadata": {
            "tags": []
          },
          "execution_count": 100
        }
      ]
    },
    {
      "cell_type": "markdown",
      "metadata": {
        "id": "kQ3QihOalIi5",
        "colab_type": "text"
      },
      "source": [
        "**Recap:** ROC AUC measures how well a classifier ranks predicted probabilities. So, when you get your classifier’s ROC AUC score, you need to use predicted probabilities, not discrete predictions. \n",
        "\n",
        "Your code may look something like this:\n",
        "\n",
        "```python\n",
        "from sklearn.metrics import roc_auc_score\n",
        "y_pred_proba = model.predict_proba(X_test_transformed)[:, -1] # Probability for last class\n",
        "print('Test ROC AUC:', roc_auc_score(y_test, y_pred_proba))\n",
        "```\n",
        "\n",
        "ROC AUC ranges from 0 to 1. Higher is better. A naive majority class baseline will have an ROC AUC score of 0.5."
      ]
    }
  ]
}