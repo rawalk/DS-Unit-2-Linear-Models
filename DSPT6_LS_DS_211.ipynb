{
  "nbformat": 4,
  "nbformat_minor": 0,
  "metadata": {
    "jupytext": {
      "main_language": "python"
    },
    "kernelspec": {
      "display_name": "Python 3",
      "language": "python",
      "name": "python3"
    },
    "language_info": {
      "codemirror_mode": {
        "name": "ipython",
        "version": 3
      },
      "file_extension": ".py",
      "mimetype": "text/x-python",
      "name": "python",
      "nbconvert_exporter": "python",
      "pygments_lexer": "ipython3",
      "version": "3.7.3"
    },
    "colab": {
      "name": "DSPT6_LS_DS_211.ipynb",
      "provenance": [],
      "collapsed_sections": [],
      "include_colab_link": true
    },
    "widgets": {
      "application/vnd.jupyter.widget-state+json": {
        "ae5c17dfd2234bc1a86a0122aeca96f3": {
          "model_module": "@jupyter-widgets/controls",
          "model_name": "VBoxModel",
          "state": {
            "_view_name": "VBoxView",
            "_dom_classes": [
              "widget-interact"
            ],
            "_model_name": "VBoxModel",
            "_view_module": "@jupyter-widgets/controls",
            "_model_module_version": "1.5.0",
            "_view_count": null,
            "_view_module_version": "1.5.0",
            "box_style": "",
            "layout": "IPY_MODEL_6ba9d86c6db142698c5dc1ffc1ea2614",
            "_model_module": "@jupyter-widgets/controls",
            "children": [
              "IPY_MODEL_6bc4250d8e6f4625b972439c56899c28",
              "IPY_MODEL_aff3387998154085a79cd491800110a0"
            ]
          }
        },
        "6ba9d86c6db142698c5dc1ffc1ea2614": {
          "model_module": "@jupyter-widgets/base",
          "model_name": "LayoutModel",
          "state": {
            "_view_name": "LayoutView",
            "grid_template_rows": null,
            "right": null,
            "justify_content": null,
            "_view_module": "@jupyter-widgets/base",
            "overflow": null,
            "_model_module_version": "1.2.0",
            "_view_count": null,
            "flex_flow": null,
            "width": null,
            "min_width": null,
            "border": null,
            "align_items": null,
            "bottom": null,
            "_model_module": "@jupyter-widgets/base",
            "top": null,
            "grid_column": null,
            "overflow_y": null,
            "overflow_x": null,
            "grid_auto_flow": null,
            "grid_area": null,
            "grid_template_columns": null,
            "flex": null,
            "_model_name": "LayoutModel",
            "justify_items": null,
            "grid_row": null,
            "max_height": null,
            "align_content": null,
            "visibility": null,
            "align_self": null,
            "height": null,
            "min_height": null,
            "padding": null,
            "grid_auto_rows": null,
            "grid_gap": null,
            "max_width": null,
            "order": null,
            "_view_module_version": "1.2.0",
            "grid_template_areas": null,
            "object_position": null,
            "object_fit": null,
            "grid_auto_columns": null,
            "margin": null,
            "display": null,
            "left": null
          }
        },
        "6bc4250d8e6f4625b972439c56899c28": {
          "model_module": "@jupyter-widgets/controls",
          "model_name": "IntSliderModel",
          "state": {
            "_view_name": "IntSliderView",
            "style": "IPY_MODEL_5459b4c293864225abb2cf9e328605af",
            "_dom_classes": [],
            "description": "square_feet",
            "step": 1,
            "_model_name": "IntSliderModel",
            "orientation": "horizontal",
            "max": 5000,
            "_view_module": "@jupyter-widgets/controls",
            "_model_module_version": "1.5.0",
            "value": 5000,
            "_view_count": null,
            "disabled": false,
            "_view_module_version": "1.5.0",
            "min": 700,
            "continuous_update": true,
            "readout_format": "d",
            "description_tooltip": null,
            "readout": true,
            "_model_module": "@jupyter-widgets/controls",
            "layout": "IPY_MODEL_029e81cc02ed4a1eb32757ef04f847c3"
          }
        },
        "aff3387998154085a79cd491800110a0": {
          "model_module": "@jupyter-widgets/output",
          "model_name": "OutputModel",
          "state": {
            "_view_name": "OutputView",
            "msg_id": "",
            "_dom_classes": [],
            "_model_name": "OutputModel",
            "outputs": [
              {
                "output_type": "display_data",
                "metadata": {
                  "tags": []
                },
                "text/plain": "'$13,876,874 estimated price for 5,000 square foot condo in Tribeca.\\nIn this linear regression, each additional square foot adds $3,076.'"
              }
            ],
            "_view_module": "@jupyter-widgets/output",
            "_model_module_version": "1.0.0",
            "_view_count": null,
            "_view_module_version": "1.0.0",
            "layout": "IPY_MODEL_19dd3ec276944d61b9b037248417300f",
            "_model_module": "@jupyter-widgets/output"
          }
        },
        "5459b4c293864225abb2cf9e328605af": {
          "model_module": "@jupyter-widgets/controls",
          "model_name": "SliderStyleModel",
          "state": {
            "_view_name": "StyleView",
            "handle_color": null,
            "_model_name": "SliderStyleModel",
            "description_width": "",
            "_view_module": "@jupyter-widgets/base",
            "_model_module_version": "1.5.0",
            "_view_count": null,
            "_view_module_version": "1.2.0",
            "_model_module": "@jupyter-widgets/controls"
          }
        },
        "029e81cc02ed4a1eb32757ef04f847c3": {
          "model_module": "@jupyter-widgets/base",
          "model_name": "LayoutModel",
          "state": {
            "_view_name": "LayoutView",
            "grid_template_rows": null,
            "right": null,
            "justify_content": null,
            "_view_module": "@jupyter-widgets/base",
            "overflow": null,
            "_model_module_version": "1.2.0",
            "_view_count": null,
            "flex_flow": null,
            "width": null,
            "min_width": null,
            "border": null,
            "align_items": null,
            "bottom": null,
            "_model_module": "@jupyter-widgets/base",
            "top": null,
            "grid_column": null,
            "overflow_y": null,
            "overflow_x": null,
            "grid_auto_flow": null,
            "grid_area": null,
            "grid_template_columns": null,
            "flex": null,
            "_model_name": "LayoutModel",
            "justify_items": null,
            "grid_row": null,
            "max_height": null,
            "align_content": null,
            "visibility": null,
            "align_self": null,
            "height": null,
            "min_height": null,
            "padding": null,
            "grid_auto_rows": null,
            "grid_gap": null,
            "max_width": null,
            "order": null,
            "_view_module_version": "1.2.0",
            "grid_template_areas": null,
            "object_position": null,
            "object_fit": null,
            "grid_auto_columns": null,
            "margin": null,
            "display": null,
            "left": null
          }
        },
        "19dd3ec276944d61b9b037248417300f": {
          "model_module": "@jupyter-widgets/base",
          "model_name": "LayoutModel",
          "state": {
            "_view_name": "LayoutView",
            "grid_template_rows": null,
            "right": null,
            "justify_content": null,
            "_view_module": "@jupyter-widgets/base",
            "overflow": null,
            "_model_module_version": "1.2.0",
            "_view_count": null,
            "flex_flow": null,
            "width": null,
            "min_width": null,
            "border": null,
            "align_items": null,
            "bottom": null,
            "_model_module": "@jupyter-widgets/base",
            "top": null,
            "grid_column": null,
            "overflow_y": null,
            "overflow_x": null,
            "grid_auto_flow": null,
            "grid_area": null,
            "grid_template_columns": null,
            "flex": null,
            "_model_name": "LayoutModel",
            "justify_items": null,
            "grid_row": null,
            "max_height": null,
            "align_content": null,
            "visibility": null,
            "align_self": null,
            "height": null,
            "min_height": null,
            "padding": null,
            "grid_auto_rows": null,
            "grid_gap": null,
            "max_width": null,
            "order": null,
            "_view_module_version": "1.2.0",
            "grid_template_areas": null,
            "object_position": null,
            "object_fit": null,
            "grid_auto_columns": null,
            "margin": null,
            "display": null,
            "left": null
          }
        }
      }
    }
  },
  "cells": [
    {
      "cell_type": "markdown",
      "metadata": {
        "id": "view-in-github",
        "colab_type": "text"
      },
      "source": [
        "<a href=\"https://colab.research.google.com/github/rawalk/DS-Unit-2-Linear-Models/blob/master/DSPT6_LS_DS_211.ipynb\" target=\"_parent\"><img src=\"https://colab.research.google.com/assets/colab-badge.svg\" alt=\"Open In Colab\"/></a>"
      ]
    },
    {
      "cell_type": "markdown",
      "metadata": {
        "colab_type": "text",
        "id": "W_iPwfjsWulf"
      },
      "source": [
        "Lambda School Data Science\n",
        "\n",
        "*Unit 2, Sprint 1, Module 1*\n",
        "\n",
        "---"
      ]
    },
    {
      "cell_type": "markdown",
      "metadata": {
        "colab_type": "text",
        "id": "kCE84iTRWulg"
      },
      "source": [
        "# Regression 1\n",
        "\n",
        "- Begin with baselines for regression\n",
        "- Use scikit-learn to fit a linear regression\n",
        "- Explain the coefficients from a linear regression"
      ]
    },
    {
      "cell_type": "markdown",
      "metadata": {
        "colab_type": "text",
        "id": "1XnAHO3mWulh"
      },
      "source": [
        "Brandon Rohrer wrote a good blog post, [“What questions can machine learning answer?”](https://brohrer.github.io/five_questions_data_science_answers.html)\n",
        "\n",
        "We’ll focus on two of these questions in Unit 2. These are both types of “supervised learning.”\n",
        "\n",
        "- “How Much / How Many?” (Regression)\n",
        "- “Is this A or B?” (Classification)\n",
        "\n",
        "This unit, you’ll build supervised learning models with “tabular data” (data in tables, like spreadsheets). Including, but not limited to:\n",
        "\n",
        "- Predict New York City real estate prices <-- **Today, we'll start this!**\n",
        "- Predict which water pumps in Tanzania need repairs\n",
        "- Choose your own labeled, tabular dataset, train a predictive model, and publish a blog post or web app with visualizations to explain your model!"
      ]
    },
    {
      "cell_type": "markdown",
      "metadata": {
        "colab_type": "text",
        "id": "cbhm8K-vWulh"
      },
      "source": [
        "### Setup\n",
        "\n",
        "Run the code cell below. You can work locally (follow the [local setup instructions](https://lambdaschool.github.io/ds/unit2/local/)) or on Colab.\n",
        "\n",
        "Libraries:\n",
        "\n",
        "- ipywidgets\n",
        "- pandas\n",
        "- plotly\n",
        "- scikit-learn\n",
        "\n",
        "If your **Plotly** visualizations aren't working:\n",
        "- You must have JavaScript enabled in your browser\n",
        "- You probably want to use Chrome or Firefox\n",
        "- You may need to turn off ad blockers\n",
        "- [If you're using Jupyter Lab locally, you need to install some \"extensions\"](https://plot.ly/python/getting-started/#jupyterlab-support-python-35)"
      ]
    },
    {
      "cell_type": "code",
      "metadata": {
        "colab_type": "code",
        "id": "mnVbXjrVWuli",
        "colab": {}
      },
      "source": [
        "import sys\n",
        "\n",
        "# If you're on Colab:\n",
        "if 'google.colab' in sys.modules:\n",
        "    DATA_PATH = 'https://raw.githubusercontent.com/LambdaSchool/DS-Unit-2-Applied-Modeling/master/data/'\n",
        "# If you're working locally:\n",
        "else:\n",
        "    DATA_PATH = '../data/'\n",
        "    \n",
        "# Ignore this Numpy warning when using Plotly Express:\n",
        "# FutureWarning: Method .ptp is deprecated and will be removed in a future version. Use numpy.ptp instead.\n",
        "import warnings\n",
        "warnings.filterwarnings(action='ignore', category=FutureWarning, module='numpy')"
      ],
      "execution_count": 0,
      "outputs": []
    },
    {
      "cell_type": "markdown",
      "metadata": {
        "colab_type": "text",
        "id": "0EQn2k_TWulm"
      },
      "source": [
        "# Begin with baselines for regression"
      ]
    },
    {
      "cell_type": "markdown",
      "metadata": {
        "colab_type": "text",
        "id": "fqSZDu2bWuln"
      },
      "source": [
        "## Overview"
      ]
    },
    {
      "cell_type": "markdown",
      "metadata": {
        "colab_type": "text",
        "id": "ZraShmB3Wuln"
      },
      "source": [
        "### Predict how much a NYC condo costs 🏠💸\n",
        "\n",
        "Regression models output continuous numbers, so we can use regression to answer questions like \"How much?\" or \"How many?\" \n",
        "\n",
        "Often, the question is \"How much will this cost? How many dollars?\""
      ]
    },
    {
      "cell_type": "markdown",
      "metadata": {
        "colab_type": "text",
        "id": "VnFpSU8-6vRx"
      },
      "source": [
        "For example, here's a fun YouTube video, which we'll use as our scenario for this lesson:\n",
        "\n",
        "[Amateurs & Experts Guess How Much a NYC Condo With a Private Terrace Costs](https://www.youtube.com/watch?v=JQCctBOgH9I)\n",
        "\n",
        "> Real Estate Agent Leonard Steinberg just sold a pre-war condo in New York City's Tribeca neighborhood. We challenged three people - an apartment renter, an apartment owner and a real estate expert - to try to guess how much the apartment sold for. Leonard reveals more and more details to them as they refine their guesses."
      ]
    },
    {
      "cell_type": "markdown",
      "metadata": {
        "colab_type": "text",
        "id": "XPOzYqT3Wulo"
      },
      "source": [
        "The condo from the video is **1,497 square feet**, built in 1852, and is in a desirable neighborhood. According to the real estate agent, _\"Tribeca is known to be one of the most expensive ZIP codes in all of the United States of America.\"_\n",
        "\n",
        "How can we guess what this condo sold for? Let's look at 3 methods:\n",
        "\n",
        "1. Heuristics\n",
        "2. Descriptive Statistics\n",
        "3. Predictive Model "
      ]
    },
    {
      "cell_type": "markdown",
      "metadata": {
        "colab_type": "text",
        "id": "uibXlVcwzVr1"
      },
      "source": [
        "## Follow Along"
      ]
    },
    {
      "cell_type": "markdown",
      "metadata": {
        "colab_type": "text",
        "id": "5ezXj1joWulo"
      },
      "source": [
        "### 1. Heuristics\n",
        "\n",
        "Heuristics are \"rules of thumb\" that people use to make decisions and judgments. The video participants discussed their heuristics:\n",
        "\n",
        "\n"
      ]
    },
    {
      "cell_type": "markdown",
      "metadata": {
        "colab_type": "text",
        "id": "cr13SNdB5kNP"
      },
      "source": [
        "**Participant 1**, Chinwe, is a real estate amateur. She rents her apartment in New York City. Her first guess was `8 million, and her final guess was 15 million.\n",
        "\n",
        "[She said](https://youtu.be/JQCctBOgH9I?t=465), _\"People just go crazy for numbers like 1852. You say **'pre-war'** to anyone in New York City, they will literally sell a kidney. They will just give you their children.\"_ "
      ]
    },
    {
      "cell_type": "markdown",
      "metadata": {
        "colab_type": "text",
        "id": "JqiU1UHm5gUt"
      },
      "source": [
        "**Participant 3**, Pam, is an expert. She runs a real estate blog. Her first guess was 1.55 million, and her final guess was 2.2 million.\n",
        "\n",
        "[She explained](https://youtu.be/JQCctBOgH9I?t=280) her first guess: _\"I went with a number that I think is kind of the going rate in the location, and that's **a thousand bucks a square foot.**\"_"
      ]
    },
    {
      "cell_type": "markdown",
      "metadata": {
        "colab_type": "text",
        "id": "8gRvzlBG5feH"
      },
      "source": [
        "**Participant 2**, Mubeen, is between the others in his expertise level. He owns his apartment in New York City. His first guess was 1.7 million, and his final guess was also 2.2 million."
      ]
    },
    {
      "cell_type": "markdown",
      "metadata": {
        "colab_type": "text",
        "id": "CIK7pbEpWulp"
      },
      "source": [
        "### 2. Descriptive Statistics"
      ]
    },
    {
      "cell_type": "markdown",
      "metadata": {
        "colab_type": "text",
        "id": "Jd3E27VhWulp"
      },
      "source": [
        "We can use data to try to do better than these heuristics. How much have other Tribeca condos sold for?\n",
        "\n",
        "Let's answer this question with a relevant dataset, containing most of the single residential unit, elevator apartment condos sold in Tribeca, from January through April 2019.\n",
        "\n",
        "We can get descriptive statistics for the dataset's `SALE_PRICE` column.\n",
        "\n",
        "How many condo sales are in this dataset? What was the average sale price? The median? Minimum? Maximum?"
      ]
    },
    {
      "cell_type": "code",
      "metadata": {
        "colab_type": "code",
        "id": "SV404taLWulq",
        "colab": {}
      },
      "source": [
        "import pandas as pd\n",
        "df = pd.read_csv(DATA_PATH+'condos/tribeca.csv')"
      ],
      "execution_count": 0,
      "outputs": []
    },
    {
      "cell_type": "code",
      "metadata": {
        "id": "S3sA4CK0pWCF",
        "colab_type": "code",
        "outputId": "8cca3862-6b32-4879-83db-f6bb018720b6",
        "colab": {
          "base_uri": "https://localhost:8080/",
          "height": 206
        }
      },
      "source": [
        "df.head()"
      ],
      "execution_count": 0,
      "outputs": [
        {
          "output_type": "execute_result",
          "data": {
            "text/html": [
              "<div>\n",
              "<style scoped>\n",
              "    .dataframe tbody tr th:only-of-type {\n",
              "        vertical-align: middle;\n",
              "    }\n",
              "\n",
              "    .dataframe tbody tr th {\n",
              "        vertical-align: top;\n",
              "    }\n",
              "\n",
              "    .dataframe thead th {\n",
              "        text-align: right;\n",
              "    }\n",
              "</style>\n",
              "<table border=\"1\" class=\"dataframe\">\n",
              "  <thead>\n",
              "    <tr style=\"text-align: right;\">\n",
              "      <th></th>\n",
              "      <th>NEIGHBORHOOD</th>\n",
              "      <th>BUILDING_CLASS_CATEGORY</th>\n",
              "      <th>ADDRESS</th>\n",
              "      <th>APARTMENT_NUMBER</th>\n",
              "      <th>ZIP_CODE</th>\n",
              "      <th>GROSS_SQUARE_FEET</th>\n",
              "      <th>YEAR_BUILT</th>\n",
              "      <th>SALE_PRICE</th>\n",
              "      <th>SALE_DATE</th>\n",
              "    </tr>\n",
              "  </thead>\n",
              "  <tbody>\n",
              "    <tr>\n",
              "      <th>0</th>\n",
              "      <td>TRIBECA</td>\n",
              "      <td>13 CONDOS - ELEVATOR APARTMENTS</td>\n",
              "      <td>181 HUDSON STREET, 6D</td>\n",
              "      <td>6D</td>\n",
              "      <td>10013.0</td>\n",
              "      <td>1840.0</td>\n",
              "      <td>1909.0</td>\n",
              "      <td>2800000</td>\n",
              "      <td>2019-01-03</td>\n",
              "    </tr>\n",
              "    <tr>\n",
              "      <th>1</th>\n",
              "      <td>TRIBECA</td>\n",
              "      <td>13 CONDOS - ELEVATOR APARTMENTS</td>\n",
              "      <td>10 LITTLE WEST STREET, 19A</td>\n",
              "      <td>19A</td>\n",
              "      <td>10004.0</td>\n",
              "      <td>1759.0</td>\n",
              "      <td>0.0</td>\n",
              "      <td>2650000</td>\n",
              "      <td>2019-01-07</td>\n",
              "    </tr>\n",
              "    <tr>\n",
              "      <th>2</th>\n",
              "      <td>TRIBECA</td>\n",
              "      <td>13 CONDOS - ELEVATOR APARTMENTS</td>\n",
              "      <td>30 LITTLE WEST STREET, 7G</td>\n",
              "      <td>7G</td>\n",
              "      <td>10004.0</td>\n",
              "      <td>1190.0</td>\n",
              "      <td>2005.0</td>\n",
              "      <td>1005000</td>\n",
              "      <td>2019-01-09</td>\n",
              "    </tr>\n",
              "    <tr>\n",
              "      <th>3</th>\n",
              "      <td>TRIBECA</td>\n",
              "      <td>13 CONDOS - ELEVATOR APARTMENTS</td>\n",
              "      <td>2 RIVER TERRACE, 4C</td>\n",
              "      <td>4C</td>\n",
              "      <td>0.0</td>\n",
              "      <td>1088.0</td>\n",
              "      <td>2006.0</td>\n",
              "      <td>1678000</td>\n",
              "      <td>2019-01-10</td>\n",
              "    </tr>\n",
              "    <tr>\n",
              "      <th>4</th>\n",
              "      <td>TRIBECA</td>\n",
              "      <td>13 CONDOS - ELEVATOR APARTMENTS</td>\n",
              "      <td>380 RECTOR PLACE, 10A</td>\n",
              "      <td>10A</td>\n",
              "      <td>10280.0</td>\n",
              "      <td>873.0</td>\n",
              "      <td>0.0</td>\n",
              "      <td>1380000</td>\n",
              "      <td>2019-01-11</td>\n",
              "    </tr>\n",
              "  </tbody>\n",
              "</table>\n",
              "</div>"
            ],
            "text/plain": [
              "  NEIGHBORHOOD          BUILDING_CLASS_CATEGORY  ... SALE_PRICE   SALE_DATE\n",
              "0      TRIBECA  13 CONDOS - ELEVATOR APARTMENTS  ...    2800000  2019-01-03\n",
              "1      TRIBECA  13 CONDOS - ELEVATOR APARTMENTS  ...    2650000  2019-01-07\n",
              "2      TRIBECA  13 CONDOS - ELEVATOR APARTMENTS  ...    1005000  2019-01-09\n",
              "3      TRIBECA  13 CONDOS - ELEVATOR APARTMENTS  ...    1678000  2019-01-10\n",
              "4      TRIBECA  13 CONDOS - ELEVATOR APARTMENTS  ...    1380000  2019-01-11\n",
              "\n",
              "[5 rows x 9 columns]"
            ]
          },
          "metadata": {
            "tags": []
          },
          "execution_count": 3
        }
      ]
    },
    {
      "cell_type": "code",
      "metadata": {
        "id": "DQYXG8IMf6vp",
        "colab_type": "code",
        "outputId": "5f6b47ba-c3a6-423e-cb2c-ca5955b27dbd",
        "colab": {
          "base_uri": "https://localhost:8080/",
          "height": 184
        }
      },
      "source": [
        "pd.options.display.float_format = '{:,.0f}'.format\n",
        "df['SALE_PRICE'].describe()"
      ],
      "execution_count": 0,
      "outputs": [
        {
          "output_type": "execute_result",
          "data": {
            "text/plain": [
              "count           90\n",
              "mean     3,928,736\n",
              "std      3,621,996\n",
              "min        424,770\n",
              "25%      1,156,552\n",
              "50%      2,750,000\n",
              "75%      5,087,500\n",
              "max     15,000,000\n",
              "Name: SALE_PRICE, dtype: float64"
            ]
          },
          "metadata": {
            "tags": []
          },
          "execution_count": 4
        }
      ]
    },
    {
      "cell_type": "markdown",
      "metadata": {
        "colab_type": "text",
        "id": "jcSdkoz-Wuls"
      },
      "source": [
        "On average, condos in Tribeca have sold for \\$3.9 million. So that could be a reasonable first guess.\n",
        "\n",
        "In fact, here's the interesting thing: **we could use this one number as a \"prediction\", if we didn't have any data except for sales price...** \n",
        "\n",
        "Imagine we didn't have any any other information about condos, then what would you tell somebody? If you had some sales prices like this but you didn't have any of these other columns. If somebody asked you, \"How much do you think a condo in Tribeca costs?\"\n",
        "\n",
        "You could say, \"Well, I've got 90 sales prices here, and I see that on average they cost \\$3.9 million.\"\n",
        "\n",
        "So we do this all the time in the real world. We use descriptive statistics for prediction. And that's not wrong or bad, in fact **that's where you should start. This is called the _mean baseline_.**"
      ]
    },
    {
      "cell_type": "markdown",
      "metadata": {
        "colab_type": "text",
        "id": "1XWVQ9SpWult"
      },
      "source": [
        "**Baseline** is an overloaded term, with multiple meanings:\n",
        "\n",
        "1. [**The score you'd get by guessing**](https://twitter.com/koehrsen_will/status/1088863527778111488)\n",
        "2. [**Fast, first models that beat guessing**](https://blog.insightdatascience.com/always-start-with-a-stupid-model-no-exceptions-3a22314b9aaa) \n",
        "3. **Complete, tuned \"simpler\" model** (Simpler mathematically, computationally. Or less work for you, the data scientist.)\n",
        "4. **Minimum performance that \"matters\"** to go to production and benefit your employer and the people you serve.\n",
        "5. **Human-level performance** \n",
        "\n",
        "Baseline type #1 is what we're doing now.\n",
        "\n",
        "(Linear models can be great for #2, 3, 4, and [sometimes even #5 too!](http://citeseerx.ist.psu.edu/viewdoc/summary?doi=10.1.1.188.5825))"
      ]
    },
    {
      "cell_type": "markdown",
      "metadata": {
        "colab_type": "text",
        "id": "PIvjiKDCWult"
      },
      "source": [
        "---\n",
        "\n",
        "Let's go back to our mean baseline for Tribeca condos. \n",
        "\n",
        "If we just guessed that every Tribeca condo sold for \\$3.9 million, how far off would we be, on average?"
      ]
    },
    {
      "cell_type": "code",
      "metadata": {
        "id": "ibCSk5sNf6vw",
        "colab_type": "code",
        "outputId": "3b88834f-3c41-4786-8518-535dde2b5d60",
        "colab": {
          "base_uri": "https://localhost:8080/",
          "height": 36
        }
      },
      "source": [
        "guess = df['SALE_PRICE'].mean()\n",
        "guess"
      ],
      "execution_count": 0,
      "outputs": [
        {
          "output_type": "execute_result",
          "data": {
            "text/plain": [
              "3928736.3666666667"
            ]
          },
          "metadata": {
            "tags": []
          },
          "execution_count": 6
        }
      ]
    },
    {
      "cell_type": "code",
      "metadata": {
        "id": "CDwVNn6Xf6vz",
        "colab_type": "code",
        "outputId": "f97516ae-7abf-4536-f023-68c1c81d7a5a",
        "colab": {
          "base_uri": "https://localhost:8080/",
          "height": 239
        }
      },
      "source": [
        "errors = guess - df['SALE_PRICE']\n",
        "errors"
      ],
      "execution_count": 0,
      "outputs": [
        {
          "output_type": "execute_result",
          "data": {
            "text/plain": [
              "0     1,128,736\n",
              "1     1,278,736\n",
              "2     2,923,736\n",
              "3     2,250,736\n",
              "4     2,548,736\n",
              "        ...    \n",
              "85   -1,832,523\n",
              "86    1,328,736\n",
              "87    3,323,736\n",
              "88    2,968,736\n",
              "89    2,953,736\n",
              "Name: SALE_PRICE, Length: 90, dtype: float64"
            ]
          },
          "metadata": {
            "tags": []
          },
          "execution_count": 7
        }
      ]
    },
    {
      "cell_type": "code",
      "metadata": {
        "id": "uYyAFkc5f6v3",
        "colab_type": "code",
        "outputId": "1caf7ac1-b12a-483b-e301-53ef050f2950",
        "colab": {
          "base_uri": "https://localhost:8080/",
          "height": 36
        }
      },
      "source": [
        "mean_absolute_error = errors.abs().mean() #MAE\n",
        "mean_absolute_error"
      ],
      "execution_count": 0,
      "outputs": [
        {
          "output_type": "execute_result",
          "data": {
            "text/plain": [
              "2783380.1977777793"
            ]
          },
          "metadata": {
            "tags": []
          },
          "execution_count": 10
        }
      ]
    },
    {
      "cell_type": "code",
      "metadata": {
        "colab_type": "code",
        "id": "yJm4xlvvWulu",
        "outputId": "d6ed5d28-1e4e-4c17-a380-5e67cd5a4ae3",
        "colab": {
          "base_uri": "https://localhost:8080/",
          "height": 54
        }
      },
      "source": [
        "print(f'If we just guessed every Tribeca condo sold for ${guess:,.0f},')\n",
        "print(f'we would be off by ${mean_absolute_error:,.0f} on average.')"
      ],
      "execution_count": 0,
      "outputs": [
        {
          "output_type": "stream",
          "text": [
            "If we just guessed every Tribeca condo sold for $3,928,736,\n",
            "we would be off by $2,783,380 on average.\n"
          ],
          "name": "stdout"
        }
      ]
    },
    {
      "cell_type": "markdown",
      "metadata": {
        "colab_type": "text",
        "id": "8oqi26gSWulw"
      },
      "source": [
        "That sounds like a lot of error! \n",
        "\n",
        "But fortunately, we can do better than this first baseline — we can use more data. For example, the condo's size.\n",
        "\n",
        "Could sale price be **dependent** on square feet? To explore this relationship, let's make a scatterplot, using [Plotly Express](https://plot.ly/python/plotly-express/):"
      ]
    },
    {
      "cell_type": "code",
      "metadata": {
        "colab_type": "code",
        "id": "EsS1uT2aWulw",
        "outputId": "236b2e33-6181-4579-f1a1-d2f7c04a168b",
        "colab": {
          "base_uri": "https://localhost:8080/",
          "height": 542
        }
      },
      "source": [
        "import plotly.express as px\n",
        "px.scatter(df, x='GROSS_SQUARE_FEET', y='SALE_PRICE')"
      ],
      "execution_count": 0,
      "outputs": [
        {
          "output_type": "display_data",
          "data": {
            "text/html": [
              "<html>\n",
              "<head><meta charset=\"utf-8\" /></head>\n",
              "<body>\n",
              "    <div>\n",
              "            <script src=\"https://cdnjs.cloudflare.com/ajax/libs/mathjax/2.7.5/MathJax.js?config=TeX-AMS-MML_SVG\"></script><script type=\"text/javascript\">if (window.MathJax) {MathJax.Hub.Config({SVG: {font: \"STIX-Web\"}});}</script>\n",
              "                <script type=\"text/javascript\">window.PlotlyConfig = {MathJaxConfig: 'local'};</script>\n",
              "        <script src=\"https://cdn.plot.ly/plotly-latest.min.js\"></script>    \n",
              "            <div id=\"e233a136-2331-4dfb-bd77-bd74a938d29e\" class=\"plotly-graph-div\" style=\"height:525px; width:100%;\"></div>\n",
              "            <script type=\"text/javascript\">\n",
              "                \n",
              "                    window.PLOTLYENV=window.PLOTLYENV || {};\n",
              "                    \n",
              "                if (document.getElementById(\"e233a136-2331-4dfb-bd77-bd74a938d29e\")) {\n",
              "                    Plotly.newPlot(\n",
              "                        'e233a136-2331-4dfb-bd77-bd74a938d29e',\n",
              "                        [{\"hoverlabel\": {\"namelength\": 0}, \"hovertemplate\": \"GROSS_SQUARE_FEET=%{x}<br>SALE_PRICE=%{y}\", \"legendgroup\": \"\", \"marker\": {\"color\": \"#636efa\", \"symbol\": \"circle\"}, \"mode\": \"markers\", \"name\": \"\", \"showlegend\": false, \"type\": \"scatter\", \"x\": [1840.0, 1759.0, 1190.0, 1088.0, 873.0, 2279.0, 695.0, 1449.0, 2279.0, 3227.0, 2249.0, 4663.0, 4986.0, 2436.0, 1920.0, 432.0, 2063.0, 3208.0, 868.0, 2279.0, 2289.0, 3217.0, 3500.0, 748.0, 2409.0, 1190.0, 1061.0, 860.0, 2811.0, 1650.0, 1666.0, 4016.0, 2279.0, 3844.0, 1973.0, 625.0, 1524.0, 1054.0, 1526.0, 875.0, 1850.0, 1144.0, 2292.0, 2279.0, 2964.0, 688.0, 1661.0, 2663.0, 634.0, 756.0, 530.0, 1061.0, 695.0, 2685.0, 3243.0, 2342.0, 2481.0, 440.0, 1311.0, 915.0, 647.0, 948.0, 565.0, 1593.0, 2300.0, 2028.0, 1014.0, 1359.0, 3260.0, 830.0, 951.0, 652.0, 3428.0, 2311.0, 704.0, 1580.0, 2042.0, 638.0, 1816.0, 2481.0, 3201.0, 1096.0, 2221.0, 661.0, 814.0, 2429.0, 1601.0, 634.0, 939.0, 695.0], \"xaxis\": \"x\", \"y\": [2800000, 2650000, 1005000, 1678000, 1380000, 6924100, 501000, 2400000, 9316988, 10200000, 4100000, 7200000, 13240000, 4900000, 3870000, 640000, 4750000, 11648526, 1090000, 4400000, 8909688, 12376829, 8000000, 999500, 5350000, 1250000, 1770000, 905000, 6053000, 3250000, 5150000, 12750000, 9164250, 6761138, 4050000, 1360000, 2495000, 1175000, 2250000, 1350000, 3145000, 1658000, 3836438, 6720000, 15000000, 1651544, 3300000, 5270000, 858000, 685000, 490000, 1754000, 475000, 7722000, 12142631, 3700000, 4800000, 630000, 2050000, 424770, 496860, 1275000, 520000, 3920263, 4500000, 3550000, 1320000, 1404586, 12200000, 785000, 1175000, 982500, 3850000, 3400000, 710000, 2700000, 4100000, 895000, 3635000, 4800000, 12040000, 1550000, 4600000, 750000, 1150403, 5761259, 2600000, 605000, 960000, 975000], \"yaxis\": \"y\"}],\n",
              "                        {\"legend\": {\"tracegroupgap\": 0}, \"margin\": {\"t\": 60}, \"template\": {\"data\": {\"bar\": [{\"error_x\": {\"color\": \"#2a3f5f\"}, \"error_y\": {\"color\": \"#2a3f5f\"}, \"marker\": {\"line\": {\"color\": \"#E5ECF6\", \"width\": 0.5}}, \"type\": \"bar\"}], \"barpolar\": [{\"marker\": {\"line\": {\"color\": \"#E5ECF6\", \"width\": 0.5}}, \"type\": \"barpolar\"}], \"carpet\": [{\"aaxis\": {\"endlinecolor\": \"#2a3f5f\", \"gridcolor\": \"white\", \"linecolor\": \"white\", \"minorgridcolor\": \"white\", \"startlinecolor\": \"#2a3f5f\"}, \"baxis\": {\"endlinecolor\": \"#2a3f5f\", \"gridcolor\": \"white\", \"linecolor\": \"white\", \"minorgridcolor\": \"white\", \"startlinecolor\": \"#2a3f5f\"}, \"type\": \"carpet\"}], \"choropleth\": [{\"colorbar\": {\"outlinewidth\": 0, \"ticks\": \"\"}, \"type\": \"choropleth\"}], \"contour\": [{\"colorbar\": {\"outlinewidth\": 0, \"ticks\": \"\"}, \"colorscale\": [[0.0, \"#0d0887\"], [0.1111111111111111, \"#46039f\"], [0.2222222222222222, \"#7201a8\"], [0.3333333333333333, \"#9c179e\"], [0.4444444444444444, \"#bd3786\"], [0.5555555555555556, \"#d8576b\"], [0.6666666666666666, \"#ed7953\"], [0.7777777777777778, \"#fb9f3a\"], [0.8888888888888888, \"#fdca26\"], [1.0, \"#f0f921\"]], \"type\": \"contour\"}], \"contourcarpet\": [{\"colorbar\": {\"outlinewidth\": 0, \"ticks\": \"\"}, \"type\": \"contourcarpet\"}], \"heatmap\": [{\"colorbar\": {\"outlinewidth\": 0, \"ticks\": \"\"}, \"colorscale\": [[0.0, \"#0d0887\"], [0.1111111111111111, \"#46039f\"], [0.2222222222222222, \"#7201a8\"], [0.3333333333333333, \"#9c179e\"], [0.4444444444444444, \"#bd3786\"], [0.5555555555555556, \"#d8576b\"], [0.6666666666666666, \"#ed7953\"], [0.7777777777777778, \"#fb9f3a\"], [0.8888888888888888, \"#fdca26\"], [1.0, \"#f0f921\"]], \"type\": \"heatmap\"}], \"heatmapgl\": [{\"colorbar\": {\"outlinewidth\": 0, \"ticks\": \"\"}, \"colorscale\": [[0.0, \"#0d0887\"], [0.1111111111111111, \"#46039f\"], [0.2222222222222222, \"#7201a8\"], [0.3333333333333333, \"#9c179e\"], [0.4444444444444444, \"#bd3786\"], [0.5555555555555556, \"#d8576b\"], [0.6666666666666666, \"#ed7953\"], [0.7777777777777778, \"#fb9f3a\"], [0.8888888888888888, \"#fdca26\"], [1.0, \"#f0f921\"]], \"type\": \"heatmapgl\"}], \"histogram\": [{\"marker\": {\"colorbar\": {\"outlinewidth\": 0, \"ticks\": \"\"}}, \"type\": \"histogram\"}], \"histogram2d\": [{\"colorbar\": {\"outlinewidth\": 0, \"ticks\": \"\"}, \"colorscale\": [[0.0, \"#0d0887\"], [0.1111111111111111, \"#46039f\"], [0.2222222222222222, \"#7201a8\"], [0.3333333333333333, \"#9c179e\"], [0.4444444444444444, \"#bd3786\"], [0.5555555555555556, \"#d8576b\"], [0.6666666666666666, \"#ed7953\"], [0.7777777777777778, \"#fb9f3a\"], [0.8888888888888888, \"#fdca26\"], [1.0, \"#f0f921\"]], \"type\": \"histogram2d\"}], \"histogram2dcontour\": [{\"colorbar\": {\"outlinewidth\": 0, \"ticks\": \"\"}, \"colorscale\": [[0.0, \"#0d0887\"], [0.1111111111111111, \"#46039f\"], [0.2222222222222222, \"#7201a8\"], [0.3333333333333333, \"#9c179e\"], [0.4444444444444444, \"#bd3786\"], [0.5555555555555556, \"#d8576b\"], [0.6666666666666666, \"#ed7953\"], [0.7777777777777778, \"#fb9f3a\"], [0.8888888888888888, \"#fdca26\"], [1.0, \"#f0f921\"]], \"type\": \"histogram2dcontour\"}], \"mesh3d\": [{\"colorbar\": {\"outlinewidth\": 0, \"ticks\": \"\"}, \"type\": \"mesh3d\"}], \"parcoords\": [{\"line\": {\"colorbar\": {\"outlinewidth\": 0, \"ticks\": \"\"}}, \"type\": \"parcoords\"}], \"pie\": [{\"automargin\": true, \"type\": \"pie\"}], \"scatter\": [{\"marker\": {\"colorbar\": {\"outlinewidth\": 0, \"ticks\": \"\"}}, \"type\": \"scatter\"}], \"scatter3d\": [{\"line\": {\"colorbar\": {\"outlinewidth\": 0, \"ticks\": \"\"}}, \"marker\": {\"colorbar\": {\"outlinewidth\": 0, \"ticks\": \"\"}}, \"type\": \"scatter3d\"}], \"scattercarpet\": [{\"marker\": {\"colorbar\": {\"outlinewidth\": 0, \"ticks\": \"\"}}, \"type\": \"scattercarpet\"}], \"scattergeo\": [{\"marker\": {\"colorbar\": {\"outlinewidth\": 0, \"ticks\": \"\"}}, \"type\": \"scattergeo\"}], \"scattergl\": [{\"marker\": {\"colorbar\": {\"outlinewidth\": 0, \"ticks\": \"\"}}, \"type\": \"scattergl\"}], \"scattermapbox\": [{\"marker\": {\"colorbar\": {\"outlinewidth\": 0, \"ticks\": \"\"}}, \"type\": \"scattermapbox\"}], \"scatterpolar\": [{\"marker\": {\"colorbar\": {\"outlinewidth\": 0, \"ticks\": \"\"}}, \"type\": \"scatterpolar\"}], \"scatterpolargl\": [{\"marker\": {\"colorbar\": {\"outlinewidth\": 0, \"ticks\": \"\"}}, \"type\": \"scatterpolargl\"}], \"scatterternary\": [{\"marker\": {\"colorbar\": {\"outlinewidth\": 0, \"ticks\": \"\"}}, \"type\": \"scatterternary\"}], \"surface\": [{\"colorbar\": {\"outlinewidth\": 0, \"ticks\": \"\"}, \"colorscale\": [[0.0, \"#0d0887\"], [0.1111111111111111, \"#46039f\"], [0.2222222222222222, \"#7201a8\"], [0.3333333333333333, \"#9c179e\"], [0.4444444444444444, \"#bd3786\"], [0.5555555555555556, \"#d8576b\"], [0.6666666666666666, \"#ed7953\"], [0.7777777777777778, \"#fb9f3a\"], [0.8888888888888888, \"#fdca26\"], [1.0, \"#f0f921\"]], \"type\": \"surface\"}], \"table\": [{\"cells\": {\"fill\": {\"color\": \"#EBF0F8\"}, \"line\": {\"color\": \"white\"}}, \"header\": {\"fill\": {\"color\": \"#C8D4E3\"}, \"line\": {\"color\": \"white\"}}, \"type\": \"table\"}]}, \"layout\": {\"annotationdefaults\": {\"arrowcolor\": \"#2a3f5f\", \"arrowhead\": 0, \"arrowwidth\": 1}, \"coloraxis\": {\"colorbar\": {\"outlinewidth\": 0, \"ticks\": \"\"}}, \"colorscale\": {\"diverging\": [[0, \"#8e0152\"], [0.1, \"#c51b7d\"], [0.2, \"#de77ae\"], [0.3, \"#f1b6da\"], [0.4, \"#fde0ef\"], [0.5, \"#f7f7f7\"], [0.6, \"#e6f5d0\"], [0.7, \"#b8e186\"], [0.8, \"#7fbc41\"], [0.9, \"#4d9221\"], [1, \"#276419\"]], \"sequential\": [[0.0, \"#0d0887\"], [0.1111111111111111, \"#46039f\"], [0.2222222222222222, \"#7201a8\"], [0.3333333333333333, \"#9c179e\"], [0.4444444444444444, \"#bd3786\"], [0.5555555555555556, \"#d8576b\"], [0.6666666666666666, \"#ed7953\"], [0.7777777777777778, \"#fb9f3a\"], [0.8888888888888888, \"#fdca26\"], [1.0, \"#f0f921\"]], \"sequentialminus\": [[0.0, \"#0d0887\"], [0.1111111111111111, \"#46039f\"], [0.2222222222222222, \"#7201a8\"], [0.3333333333333333, \"#9c179e\"], [0.4444444444444444, \"#bd3786\"], [0.5555555555555556, \"#d8576b\"], [0.6666666666666666, \"#ed7953\"], [0.7777777777777778, \"#fb9f3a\"], [0.8888888888888888, \"#fdca26\"], [1.0, \"#f0f921\"]]}, \"colorway\": [\"#636efa\", \"#EF553B\", \"#00cc96\", \"#ab63fa\", \"#FFA15A\", \"#19d3f3\", \"#FF6692\", \"#B6E880\", \"#FF97FF\", \"#FECB52\"], \"font\": {\"color\": \"#2a3f5f\"}, \"geo\": {\"bgcolor\": \"white\", \"lakecolor\": \"white\", \"landcolor\": \"#E5ECF6\", \"showlakes\": true, \"showland\": true, \"subunitcolor\": \"white\"}, \"hoverlabel\": {\"align\": \"left\"}, \"hovermode\": \"closest\", \"mapbox\": {\"style\": \"light\"}, \"paper_bgcolor\": \"white\", \"plot_bgcolor\": \"#E5ECF6\", \"polar\": {\"angularaxis\": {\"gridcolor\": \"white\", \"linecolor\": \"white\", \"ticks\": \"\"}, \"bgcolor\": \"#E5ECF6\", \"radialaxis\": {\"gridcolor\": \"white\", \"linecolor\": \"white\", \"ticks\": \"\"}}, \"scene\": {\"xaxis\": {\"backgroundcolor\": \"#E5ECF6\", \"gridcolor\": \"white\", \"gridwidth\": 2, \"linecolor\": \"white\", \"showbackground\": true, \"ticks\": \"\", \"zerolinecolor\": \"white\"}, \"yaxis\": {\"backgroundcolor\": \"#E5ECF6\", \"gridcolor\": \"white\", \"gridwidth\": 2, \"linecolor\": \"white\", \"showbackground\": true, \"ticks\": \"\", \"zerolinecolor\": \"white\"}, \"zaxis\": {\"backgroundcolor\": \"#E5ECF6\", \"gridcolor\": \"white\", \"gridwidth\": 2, \"linecolor\": \"white\", \"showbackground\": true, \"ticks\": \"\", \"zerolinecolor\": \"white\"}}, \"shapedefaults\": {\"line\": {\"color\": \"#2a3f5f\"}}, \"ternary\": {\"aaxis\": {\"gridcolor\": \"white\", \"linecolor\": \"white\", \"ticks\": \"\"}, \"baxis\": {\"gridcolor\": \"white\", \"linecolor\": \"white\", \"ticks\": \"\"}, \"bgcolor\": \"#E5ECF6\", \"caxis\": {\"gridcolor\": \"white\", \"linecolor\": \"white\", \"ticks\": \"\"}}, \"title\": {\"x\": 0.05}, \"xaxis\": {\"automargin\": true, \"gridcolor\": \"white\", \"linecolor\": \"white\", \"ticks\": \"\", \"title\": {\"standoff\": 15}, \"zerolinecolor\": \"white\", \"zerolinewidth\": 2}, \"yaxis\": {\"automargin\": true, \"gridcolor\": \"white\", \"linecolor\": \"white\", \"ticks\": \"\", \"title\": {\"standoff\": 15}, \"zerolinecolor\": \"white\", \"zerolinewidth\": 2}}}, \"xaxis\": {\"anchor\": \"y\", \"domain\": [0.0, 1.0], \"title\": {\"text\": \"GROSS_SQUARE_FEET\"}}, \"yaxis\": {\"anchor\": \"x\", \"domain\": [0.0, 1.0], \"title\": {\"text\": \"SALE_PRICE\"}}},\n",
              "                        {\"responsive\": true}\n",
              "                    ).then(function(){\n",
              "                            \n",
              "var gd = document.getElementById('e233a136-2331-4dfb-bd77-bd74a938d29e');\n",
              "var x = new MutationObserver(function (mutations, observer) {{\n",
              "        var display = window.getComputedStyle(gd).display;\n",
              "        if (!display || display === 'none') {{\n",
              "            console.log([gd, 'removed!']);\n",
              "            Plotly.purge(gd);\n",
              "            observer.disconnect();\n",
              "        }}\n",
              "}});\n",
              "\n",
              "// Listen for the removal of the full notebook cells\n",
              "var notebookContainer = gd.closest('#notebook-container');\n",
              "if (notebookContainer) {{\n",
              "    x.observe(notebookContainer, {childList: true});\n",
              "}}\n",
              "\n",
              "// Listen for the clearing of the current output cell\n",
              "var outputEl = gd.closest('.output');\n",
              "if (outputEl) {{\n",
              "    x.observe(outputEl, {childList: true});\n",
              "}}\n",
              "\n",
              "                        })\n",
              "                };\n",
              "                \n",
              "            </script>\n",
              "        </div>\n",
              "</body>\n",
              "</html>"
            ]
          },
          "metadata": {
            "tags": []
          }
        }
      ]
    },
    {
      "cell_type": "markdown",
      "metadata": {
        "colab_type": "text",
        "id": "dHg8dxXjWul0"
      },
      "source": [
        "### 3. Predictive Model\n",
        "\n",
        "To go from a _descriptive_ [scatterplot](https://www.plotly.express/plotly_express/#plotly_express.scatter) to a _predictive_ regression, just add a _line of best fit:_"
      ]
    },
    {
      "cell_type": "code",
      "metadata": {
        "colab_type": "code",
        "id": "Nhb0q-liWul0",
        "outputId": "95cf1d3e-1901-495b-e8c8-49efdf8deeeb",
        "colab": {
          "base_uri": "https://localhost:8080/",
          "height": 616
        }
      },
      "source": [
        "px.scatter(df, x='GROSS_SQUARE_FEET', y='SALE_PRICE', trendline='ols')"
      ],
      "execution_count": 0,
      "outputs": [
        {
          "output_type": "stream",
          "text": [
            "/usr/local/lib/python3.6/dist-packages/statsmodels/tools/_testing.py:19: FutureWarning:\n",
            "\n",
            "pandas.util.testing is deprecated. Use the functions in the public API at pandas.testing instead.\n",
            "\n"
          ],
          "name": "stderr"
        },
        {
          "output_type": "display_data",
          "data": {
            "text/html": [
              "<html>\n",
              "<head><meta charset=\"utf-8\" /></head>\n",
              "<body>\n",
              "    <div>\n",
              "            <script src=\"https://cdnjs.cloudflare.com/ajax/libs/mathjax/2.7.5/MathJax.js?config=TeX-AMS-MML_SVG\"></script><script type=\"text/javascript\">if (window.MathJax) {MathJax.Hub.Config({SVG: {font: \"STIX-Web\"}});}</script>\n",
              "                <script type=\"text/javascript\">window.PlotlyConfig = {MathJaxConfig: 'local'};</script>\n",
              "        <script src=\"https://cdn.plot.ly/plotly-latest.min.js\"></script>    \n",
              "            <div id=\"cf9a44d1-52c6-4fd8-8f86-9408d35fba80\" class=\"plotly-graph-div\" style=\"height:525px; width:100%;\"></div>\n",
              "            <script type=\"text/javascript\">\n",
              "                \n",
              "                    window.PLOTLYENV=window.PLOTLYENV || {};\n",
              "                    \n",
              "                if (document.getElementById(\"cf9a44d1-52c6-4fd8-8f86-9408d35fba80\")) {\n",
              "                    Plotly.newPlot(\n",
              "                        'cf9a44d1-52c6-4fd8-8f86-9408d35fba80',\n",
              "                        [{\"hoverlabel\": {\"namelength\": 0}, \"hovertemplate\": \"GROSS_SQUARE_FEET=%{x}<br>SALE_PRICE=%{y}\", \"legendgroup\": \"\", \"marker\": {\"color\": \"#636efa\", \"symbol\": \"circle\"}, \"mode\": \"markers\", \"name\": \"\", \"showlegend\": false, \"type\": \"scatter\", \"x\": [1840.0, 1759.0, 1190.0, 1088.0, 873.0, 2279.0, 695.0, 1449.0, 2279.0, 3227.0, 2249.0, 4663.0, 4986.0, 2436.0, 1920.0, 432.0, 2063.0, 3208.0, 868.0, 2279.0, 2289.0, 3217.0, 3500.0, 748.0, 2409.0, 1190.0, 1061.0, 860.0, 2811.0, 1650.0, 1666.0, 4016.0, 2279.0, 3844.0, 1973.0, 625.0, 1524.0, 1054.0, 1526.0, 875.0, 1850.0, 1144.0, 2292.0, 2279.0, 2964.0, 688.0, 1661.0, 2663.0, 634.0, 756.0, 530.0, 1061.0, 695.0, 2685.0, 3243.0, 2342.0, 2481.0, 440.0, 1311.0, 915.0, 647.0, 948.0, 565.0, 1593.0, 2300.0, 2028.0, 1014.0, 1359.0, 3260.0, 830.0, 951.0, 652.0, 3428.0, 2311.0, 704.0, 1580.0, 2042.0, 638.0, 1816.0, 2481.0, 3201.0, 1096.0, 2221.0, 661.0, 814.0, 2429.0, 1601.0, 634.0, 939.0, 695.0], \"xaxis\": \"x\", \"y\": [2800000, 2650000, 1005000, 1678000, 1380000, 6924100, 501000, 2400000, 9316988, 10200000, 4100000, 7200000, 13240000, 4900000, 3870000, 640000, 4750000, 11648526, 1090000, 4400000, 8909688, 12376829, 8000000, 999500, 5350000, 1250000, 1770000, 905000, 6053000, 3250000, 5150000, 12750000, 9164250, 6761138, 4050000, 1360000, 2495000, 1175000, 2250000, 1350000, 3145000, 1658000, 3836438, 6720000, 15000000, 1651544, 3300000, 5270000, 858000, 685000, 490000, 1754000, 475000, 7722000, 12142631, 3700000, 4800000, 630000, 2050000, 424770, 496860, 1275000, 520000, 3920263, 4500000, 3550000, 1320000, 1404586, 12200000, 785000, 1175000, 982500, 3850000, 3400000, 710000, 2700000, 4100000, 895000, 3635000, 4800000, 12040000, 1550000, 4600000, 750000, 1150403, 5761259, 2600000, 605000, 960000, 975000], \"yaxis\": \"y\"}, {\"hoverlabel\": {\"namelength\": 0}, \"hovertemplate\": \"<b>OLS trendline</b><br>SALE_PRICE = 3076.447655 * GROSS_SQUARE_FEET + -1505364.040859<br>R<sup>2</sup>=0.748751<br><br>GROSS_SQUARE_FEET=%{x}<br>SALE_PRICE=%{y} <b>(trend)</b>\", \"legendgroup\": \"\", \"marker\": {\"color\": \"#636efa\", \"symbol\": \"circle\"}, \"mode\": \"lines\", \"name\": \"\", \"showlegend\": false, \"type\": \"scatter\", \"x\": [432.0, 440.0, 530.0, 565.0, 625.0, 634.0, 634.0, 638.0, 647.0, 652.0, 661.0, 688.0, 695.0, 695.0, 695.0, 704.0, 748.0, 756.0, 814.0, 830.0, 860.0, 868.0, 873.0, 875.0, 915.0, 939.0, 948.0, 951.0, 1014.0, 1054.0, 1061.0, 1061.0, 1088.0, 1096.0, 1144.0, 1190.0, 1190.0, 1311.0, 1359.0, 1449.0, 1524.0, 1526.0, 1580.0, 1593.0, 1601.0, 1650.0, 1661.0, 1666.0, 1759.0, 1816.0, 1840.0, 1850.0, 1920.0, 1973.0, 2028.0, 2042.0, 2063.0, 2221.0, 2249.0, 2279.0, 2279.0, 2279.0, 2279.0, 2279.0, 2289.0, 2292.0, 2300.0, 2311.0, 2342.0, 2409.0, 2429.0, 2436.0, 2481.0, 2481.0, 2663.0, 2685.0, 2811.0, 2964.0, 3201.0, 3208.0, 3217.0, 3227.0, 3243.0, 3260.0, 3428.0, 3500.0, 3844.0, 4016.0, 4663.0, 4986.0], \"xaxis\": \"x\", \"y\": [-176338.6537175437, -151727.07247419166, 125153.21651351848, 232828.8844531835, 417415.7437783235, 445103.7726770947, 445103.7726770947, 457409.5632987707, 485097.5921975416, 500479.8304746365, 528167.8593734077, 611231.9460697207, 632767.0796576538, 632767.0796576538, 632767.0796576538, 660455.1085564247, 795818.8053948609, 820430.386638213, 998864.350652515, 1048087.513139219, 1140380.942801789, 1164992.524045141, 1180374.7623222359, 1186527.657633074, 1309585.5638498338, 1383420.30757989, 1411108.3364786608, 1420337.679444918, 1614153.8817363153, 1737211.787953075, 1758746.9215410082, 1758746.9215410082, 1841811.0082373214, 1866422.5894806734, 2014092.0769407852, 2155608.6690900596, 2155608.6690900596, 2527858.8353957585, 2675528.3228558707, 2952408.611843581, 3183142.186000006, 3189295.0813108436, 3355423.25470347, 3395417.0742239165, 3420028.6554672685, 3570774.5905827996, 3604615.5147924093, 3619997.7530695037, 3906107.3850234714, 4081464.9013823546, 4155299.6451124107, 4186064.1216666005, 4401415.4575459305, 4564467.183283137, 4733671.804331183, 4776742.071507048, 4841347.472270848, 5327426.201827049, 5413566.736178782, 5505860.165841352, 5505860.165841352, 5505860.165841352, 5505860.165841352, 5505860.165841352, 5536624.642395541, 5545853.9853618, 5570465.566605151, 5604306.49081476, 5699676.36813275, 5905798.3610458225, 5967327.314154202, 5988862.447742134, 6127302.59223599, 6127302.59223599, 6687216.065522248, 6754897.913941467, 7142530.318524262, 7613226.8098033685, 8342344.904137671, 8363880.037725605, 8391568.066624375, 8422332.543178566, 8471555.70566527, 8523855.315807393, 9040698.521917785, 9262202.753107954, 10320500.74657209, 10849649.743304158, 12840111.376360252, 13833803.969060589], \"yaxis\": \"y\"}],\n",
              "                        {\"legend\": {\"tracegroupgap\": 0}, \"margin\": {\"t\": 60}, \"template\": {\"data\": {\"bar\": [{\"error_x\": {\"color\": \"#2a3f5f\"}, \"error_y\": {\"color\": \"#2a3f5f\"}, \"marker\": {\"line\": {\"color\": \"#E5ECF6\", \"width\": 0.5}}, \"type\": \"bar\"}], \"barpolar\": [{\"marker\": {\"line\": {\"color\": \"#E5ECF6\", \"width\": 0.5}}, \"type\": \"barpolar\"}], \"carpet\": [{\"aaxis\": {\"endlinecolor\": \"#2a3f5f\", \"gridcolor\": \"white\", \"linecolor\": \"white\", \"minorgridcolor\": \"white\", \"startlinecolor\": \"#2a3f5f\"}, \"baxis\": {\"endlinecolor\": \"#2a3f5f\", \"gridcolor\": \"white\", \"linecolor\": \"white\", \"minorgridcolor\": \"white\", \"startlinecolor\": \"#2a3f5f\"}, \"type\": \"carpet\"}], \"choropleth\": [{\"colorbar\": {\"outlinewidth\": 0, \"ticks\": \"\"}, \"type\": \"choropleth\"}], \"contour\": [{\"colorbar\": {\"outlinewidth\": 0, \"ticks\": \"\"}, \"colorscale\": [[0.0, \"#0d0887\"], [0.1111111111111111, \"#46039f\"], [0.2222222222222222, \"#7201a8\"], [0.3333333333333333, \"#9c179e\"], [0.4444444444444444, \"#bd3786\"], [0.5555555555555556, \"#d8576b\"], [0.6666666666666666, \"#ed7953\"], [0.7777777777777778, \"#fb9f3a\"], [0.8888888888888888, \"#fdca26\"], [1.0, \"#f0f921\"]], \"type\": \"contour\"}], \"contourcarpet\": [{\"colorbar\": {\"outlinewidth\": 0, \"ticks\": \"\"}, \"type\": \"contourcarpet\"}], \"heatmap\": [{\"colorbar\": {\"outlinewidth\": 0, \"ticks\": \"\"}, \"colorscale\": [[0.0, \"#0d0887\"], [0.1111111111111111, \"#46039f\"], [0.2222222222222222, \"#7201a8\"], [0.3333333333333333, \"#9c179e\"], [0.4444444444444444, \"#bd3786\"], [0.5555555555555556, \"#d8576b\"], [0.6666666666666666, \"#ed7953\"], [0.7777777777777778, \"#fb9f3a\"], [0.8888888888888888, \"#fdca26\"], [1.0, \"#f0f921\"]], \"type\": \"heatmap\"}], \"heatmapgl\": [{\"colorbar\": {\"outlinewidth\": 0, \"ticks\": \"\"}, \"colorscale\": [[0.0, \"#0d0887\"], [0.1111111111111111, \"#46039f\"], [0.2222222222222222, \"#7201a8\"], [0.3333333333333333, \"#9c179e\"], [0.4444444444444444, \"#bd3786\"], [0.5555555555555556, \"#d8576b\"], [0.6666666666666666, \"#ed7953\"], [0.7777777777777778, \"#fb9f3a\"], [0.8888888888888888, \"#fdca26\"], [1.0, \"#f0f921\"]], \"type\": \"heatmapgl\"}], \"histogram\": [{\"marker\": {\"colorbar\": {\"outlinewidth\": 0, \"ticks\": \"\"}}, \"type\": \"histogram\"}], \"histogram2d\": [{\"colorbar\": {\"outlinewidth\": 0, \"ticks\": \"\"}, \"colorscale\": [[0.0, \"#0d0887\"], [0.1111111111111111, \"#46039f\"], [0.2222222222222222, \"#7201a8\"], [0.3333333333333333, \"#9c179e\"], [0.4444444444444444, \"#bd3786\"], [0.5555555555555556, \"#d8576b\"], [0.6666666666666666, \"#ed7953\"], [0.7777777777777778, \"#fb9f3a\"], [0.8888888888888888, \"#fdca26\"], [1.0, \"#f0f921\"]], \"type\": \"histogram2d\"}], \"histogram2dcontour\": [{\"colorbar\": {\"outlinewidth\": 0, \"ticks\": \"\"}, \"colorscale\": [[0.0, \"#0d0887\"], [0.1111111111111111, \"#46039f\"], [0.2222222222222222, \"#7201a8\"], [0.3333333333333333, \"#9c179e\"], [0.4444444444444444, \"#bd3786\"], [0.5555555555555556, \"#d8576b\"], [0.6666666666666666, \"#ed7953\"], [0.7777777777777778, \"#fb9f3a\"], [0.8888888888888888, \"#fdca26\"], [1.0, \"#f0f921\"]], \"type\": \"histogram2dcontour\"}], \"mesh3d\": [{\"colorbar\": {\"outlinewidth\": 0, \"ticks\": \"\"}, \"type\": \"mesh3d\"}], \"parcoords\": [{\"line\": {\"colorbar\": {\"outlinewidth\": 0, \"ticks\": \"\"}}, \"type\": \"parcoords\"}], \"pie\": [{\"automargin\": true, \"type\": \"pie\"}], \"scatter\": [{\"marker\": {\"colorbar\": {\"outlinewidth\": 0, \"ticks\": \"\"}}, \"type\": \"scatter\"}], \"scatter3d\": [{\"line\": {\"colorbar\": {\"outlinewidth\": 0, \"ticks\": \"\"}}, \"marker\": {\"colorbar\": {\"outlinewidth\": 0, \"ticks\": \"\"}}, \"type\": \"scatter3d\"}], \"scattercarpet\": [{\"marker\": {\"colorbar\": {\"outlinewidth\": 0, \"ticks\": \"\"}}, \"type\": \"scattercarpet\"}], \"scattergeo\": [{\"marker\": {\"colorbar\": {\"outlinewidth\": 0, \"ticks\": \"\"}}, \"type\": \"scattergeo\"}], \"scattergl\": [{\"marker\": {\"colorbar\": {\"outlinewidth\": 0, \"ticks\": \"\"}}, \"type\": \"scattergl\"}], \"scattermapbox\": [{\"marker\": {\"colorbar\": {\"outlinewidth\": 0, \"ticks\": \"\"}}, \"type\": \"scattermapbox\"}], \"scatterpolar\": [{\"marker\": {\"colorbar\": {\"outlinewidth\": 0, \"ticks\": \"\"}}, \"type\": \"scatterpolar\"}], \"scatterpolargl\": [{\"marker\": {\"colorbar\": {\"outlinewidth\": 0, \"ticks\": \"\"}}, \"type\": \"scatterpolargl\"}], \"scatterternary\": [{\"marker\": {\"colorbar\": {\"outlinewidth\": 0, \"ticks\": \"\"}}, \"type\": \"scatterternary\"}], \"surface\": [{\"colorbar\": {\"outlinewidth\": 0, \"ticks\": \"\"}, \"colorscale\": [[0.0, \"#0d0887\"], [0.1111111111111111, \"#46039f\"], [0.2222222222222222, \"#7201a8\"], [0.3333333333333333, \"#9c179e\"], [0.4444444444444444, \"#bd3786\"], [0.5555555555555556, \"#d8576b\"], [0.6666666666666666, \"#ed7953\"], [0.7777777777777778, \"#fb9f3a\"], [0.8888888888888888, \"#fdca26\"], [1.0, \"#f0f921\"]], \"type\": \"surface\"}], \"table\": [{\"cells\": {\"fill\": {\"color\": \"#EBF0F8\"}, \"line\": {\"color\": \"white\"}}, \"header\": {\"fill\": {\"color\": \"#C8D4E3\"}, \"line\": {\"color\": \"white\"}}, \"type\": \"table\"}]}, \"layout\": {\"annotationdefaults\": {\"arrowcolor\": \"#2a3f5f\", \"arrowhead\": 0, \"arrowwidth\": 1}, \"coloraxis\": {\"colorbar\": {\"outlinewidth\": 0, \"ticks\": \"\"}}, \"colorscale\": {\"diverging\": [[0, \"#8e0152\"], [0.1, \"#c51b7d\"], [0.2, \"#de77ae\"], [0.3, \"#f1b6da\"], [0.4, \"#fde0ef\"], [0.5, \"#f7f7f7\"], [0.6, \"#e6f5d0\"], [0.7, \"#b8e186\"], [0.8, \"#7fbc41\"], [0.9, \"#4d9221\"], [1, \"#276419\"]], \"sequential\": [[0.0, \"#0d0887\"], [0.1111111111111111, \"#46039f\"], [0.2222222222222222, \"#7201a8\"], [0.3333333333333333, \"#9c179e\"], [0.4444444444444444, \"#bd3786\"], [0.5555555555555556, \"#d8576b\"], [0.6666666666666666, \"#ed7953\"], [0.7777777777777778, \"#fb9f3a\"], [0.8888888888888888, \"#fdca26\"], [1.0, \"#f0f921\"]], \"sequentialminus\": [[0.0, \"#0d0887\"], [0.1111111111111111, \"#46039f\"], [0.2222222222222222, \"#7201a8\"], [0.3333333333333333, \"#9c179e\"], [0.4444444444444444, \"#bd3786\"], [0.5555555555555556, \"#d8576b\"], [0.6666666666666666, \"#ed7953\"], [0.7777777777777778, \"#fb9f3a\"], [0.8888888888888888, \"#fdca26\"], [1.0, \"#f0f921\"]]}, \"colorway\": [\"#636efa\", \"#EF553B\", \"#00cc96\", \"#ab63fa\", \"#FFA15A\", \"#19d3f3\", \"#FF6692\", \"#B6E880\", \"#FF97FF\", \"#FECB52\"], \"font\": {\"color\": \"#2a3f5f\"}, \"geo\": {\"bgcolor\": \"white\", \"lakecolor\": \"white\", \"landcolor\": \"#E5ECF6\", \"showlakes\": true, \"showland\": true, \"subunitcolor\": \"white\"}, \"hoverlabel\": {\"align\": \"left\"}, \"hovermode\": \"closest\", \"mapbox\": {\"style\": \"light\"}, \"paper_bgcolor\": \"white\", \"plot_bgcolor\": \"#E5ECF6\", \"polar\": {\"angularaxis\": {\"gridcolor\": \"white\", \"linecolor\": \"white\", \"ticks\": \"\"}, \"bgcolor\": \"#E5ECF6\", \"radialaxis\": {\"gridcolor\": \"white\", \"linecolor\": \"white\", \"ticks\": \"\"}}, \"scene\": {\"xaxis\": {\"backgroundcolor\": \"#E5ECF6\", \"gridcolor\": \"white\", \"gridwidth\": 2, \"linecolor\": \"white\", \"showbackground\": true, \"ticks\": \"\", \"zerolinecolor\": \"white\"}, \"yaxis\": {\"backgroundcolor\": \"#E5ECF6\", \"gridcolor\": \"white\", \"gridwidth\": 2, \"linecolor\": \"white\", \"showbackground\": true, \"ticks\": \"\", \"zerolinecolor\": \"white\"}, \"zaxis\": {\"backgroundcolor\": \"#E5ECF6\", \"gridcolor\": \"white\", \"gridwidth\": 2, \"linecolor\": \"white\", \"showbackground\": true, \"ticks\": \"\", \"zerolinecolor\": \"white\"}}, \"shapedefaults\": {\"line\": {\"color\": \"#2a3f5f\"}}, \"ternary\": {\"aaxis\": {\"gridcolor\": \"white\", \"linecolor\": \"white\", \"ticks\": \"\"}, \"baxis\": {\"gridcolor\": \"white\", \"linecolor\": \"white\", \"ticks\": \"\"}, \"bgcolor\": \"#E5ECF6\", \"caxis\": {\"gridcolor\": \"white\", \"linecolor\": \"white\", \"ticks\": \"\"}}, \"title\": {\"x\": 0.05}, \"xaxis\": {\"automargin\": true, \"gridcolor\": \"white\", \"linecolor\": \"white\", \"ticks\": \"\", \"title\": {\"standoff\": 15}, \"zerolinecolor\": \"white\", \"zerolinewidth\": 2}, \"yaxis\": {\"automargin\": true, \"gridcolor\": \"white\", \"linecolor\": \"white\", \"ticks\": \"\", \"title\": {\"standoff\": 15}, \"zerolinecolor\": \"white\", \"zerolinewidth\": 2}}}, \"xaxis\": {\"anchor\": \"y\", \"domain\": [0.0, 1.0], \"title\": {\"text\": \"GROSS_SQUARE_FEET\"}}, \"yaxis\": {\"anchor\": \"x\", \"domain\": [0.0, 1.0], \"title\": {\"text\": \"SALE_PRICE\"}}},\n",
              "                        {\"responsive\": true}\n",
              "                    ).then(function(){\n",
              "                            \n",
              "var gd = document.getElementById('cf9a44d1-52c6-4fd8-8f86-9408d35fba80');\n",
              "var x = new MutationObserver(function (mutations, observer) {{\n",
              "        var display = window.getComputedStyle(gd).display;\n",
              "        if (!display || display === 'none') {{\n",
              "            console.log([gd, 'removed!']);\n",
              "            Plotly.purge(gd);\n",
              "            observer.disconnect();\n",
              "        }}\n",
              "}});\n",
              "\n",
              "// Listen for the removal of the full notebook cells\n",
              "var notebookContainer = gd.closest('#notebook-container');\n",
              "if (notebookContainer) {{\n",
              "    x.observe(notebookContainer, {childList: true});\n",
              "}}\n",
              "\n",
              "// Listen for the clearing of the current output cell\n",
              "var outputEl = gd.closest('.output');\n",
              "if (outputEl) {{\n",
              "    x.observe(outputEl, {childList: true});\n",
              "}}\n",
              "\n",
              "                        })\n",
              "                };\n",
              "                \n",
              "            </script>\n",
              "        </div>\n",
              "</body>\n",
              "</html>"
            ]
          },
          "metadata": {
            "tags": []
          }
        }
      ]
    },
    {
      "cell_type": "markdown",
      "metadata": {
        "colab_type": "text",
        "id": "KnGbq5dGWul2"
      },
      "source": [
        "Roll over the Plotly regression line to see its equation and predictions for sale price, dependent on gross square feet.\n",
        "\n",
        "Linear Regression helps us **interpolate.** For example, in this dataset, there's a gap between 4016 sq ft and 4663 sq ft. There were no 4300 sq ft condos sold, but what price would you predict, using this line of best fit?\n",
        "\n",
        "Linear Regression also helps us **extrapolate.** For example, in this dataset, there were no 6000 sq ft condos sold, but what price would you predict?"
      ]
    },
    {
      "cell_type": "markdown",
      "metadata": {
        "colab_type": "text",
        "id": "DojBoEXPWul3"
      },
      "source": [
        "The line of best fit tries to summarize the relationship between our x variable and y variable in a way that enables us to use the equation for that line to make predictions.\n",
        "\n",
        "\n",
        "\n"
      ]
    },
    {
      "cell_type": "markdown",
      "metadata": {
        "colab_type": "text",
        "id": "VGZ4-j4l5FCS"
      },
      "source": [
        "**Synonyms for \"y variable\"**\n",
        "\n",
        "- **Dependent Variable**\n",
        "- Response Variable\n",
        "- Outcome Variable \n",
        "- Predicted Variable\n",
        "- Measured Variable\n",
        "- Explained Variable\n",
        "- **Label**\n",
        "- **Target**"
      ]
    },
    {
      "cell_type": "markdown",
      "metadata": {
        "colab_type": "text",
        "id": "DzZY24pE5HHP"
      },
      "source": [
        "**Synonyms for \"x variable\"**\n",
        "\n",
        "- **Independent Variable**\n",
        "- Explanatory Variable\n",
        "- Regressor\n",
        "- Covariate\n",
        "- Correlate\n",
        "- **Feature**\n"
      ]
    },
    {
      "cell_type": "markdown",
      "metadata": {
        "colab_type": "text",
        "id": "6KM8tTiK5NmF"
      },
      "source": [
        "The bolded terminology will be used most often by your instructors this unit."
      ]
    },
    {
      "cell_type": "markdown",
      "metadata": {
        "colab_type": "text",
        "id": "XlsphHydU7mY"
      },
      "source": [
        "## Challenge\n",
        "\n",
        "In your assignment, you will practice how to begin with baselines for regression, using a new dataset!"
      ]
    },
    {
      "cell_type": "markdown",
      "metadata": {
        "colab_type": "text",
        "id": "gcCoydrpWul3"
      },
      "source": [
        "# Use scikit-learn to fit a linear regression"
      ]
    },
    {
      "cell_type": "markdown",
      "metadata": {
        "colab_type": "text",
        "id": "bHDVblUnWul4"
      },
      "source": [
        "## Overview"
      ]
    },
    {
      "cell_type": "markdown",
      "metadata": {
        "colab_type": "text",
        "id": "gAybFItMWul4"
      },
      "source": [
        "We can use visualization libraries to do simple linear regression (\"simple\" means there's only one independent variable). \n",
        "\n",
        "But during this unit, we'll usually use the scikit-learn library for predictive models, and we'll usually have multiple independent variables."
      ]
    },
    {
      "cell_type": "markdown",
      "metadata": {
        "colab_type": "text",
        "id": "r1e85ZhUWul5"
      },
      "source": [
        "In [_Python Data Science Handbook,_ Chapter 5.2: Introducing Scikit-Learn](https://jakevdp.github.io/PythonDataScienceHandbook/05.02-introducing-scikit-learn.html#Basics-of-the-API), Jake VanderPlas explains **how to structure your data** for scikit-learn:\n",
        "\n",
        "> The best way to think about data within Scikit-Learn is in terms of tables of data. \n",
        ">\n",
        "> ![](https://jakevdp.github.io/PythonDataScienceHandbook/figures/05.02-samples-features.png)\n",
        ">\n",
        ">The features matrix is often stored in a variable named `X`. The features matrix is assumed to be two-dimensional, with shape `[n_samples, n_features]`, and is most often contained in a NumPy array or a Pandas `DataFrame`.\n",
        ">\n",
        ">We also generally work with a label or target array, which by convention we will usually call `y`. The target array is usually one dimensional, with length `n_samples`, and is generally contained in a NumPy array or Pandas `Series`. The target array may have continuous numerical values, or discrete classes/labels. \n",
        ">\n",
        ">The target array is the quantity we want to _predict from the data:_ in statistical terms, it is the dependent variable. "
      ]
    },
    {
      "cell_type": "markdown",
      "metadata": {
        "colab_type": "text",
        "id": "gRsl-6mP5Uci"
      },
      "source": [
        "VanderPlas also lists a **5 step process** for scikit-learn's \"Estimator API\":\n",
        "\n",
        "> Every machine learning algorithm in Scikit-Learn is implemented via the Estimator API, which provides a consistent interface for a wide range of machine learning applications.\n",
        ">\n",
        "> Most commonly, the steps in using the Scikit-Learn estimator API are as follows:\n",
        ">\n",
        "> 1. Choose a class of model by importing the appropriate estimator class from Scikit-Learn.\n",
        "> 2. Choose model hyperparameters by instantiating this class with desired values.\n",
        "> 3. Arrange data into a features matrix and target vector following the discussion above.\n",
        "> 4. Fit the model to your data by calling the `fit()` method of the model instance.\n",
        "> 5. Apply the Model to new data: For supervised learning, often we predict labels for unknown data using the `predict()` method.\n",
        "\n",
        "Let's try it!"
      ]
    },
    {
      "cell_type": "markdown",
      "metadata": {
        "colab_type": "text",
        "id": "lFYuvV19Wul6"
      },
      "source": [
        "## Follow Along\n",
        "\n",
        "Follow the 5 step process, and refer to [Scikit-Learn LinearRegression documentation](https://scikit-learn.org/stable/modules/generated/sklearn.linear_model.LinearRegression.html)."
      ]
    },
    {
      "cell_type": "code",
      "metadata": {
        "id": "55fh0xdtf6wV",
        "colab_type": "code",
        "colab": {}
      },
      "source": [
        "# 1. Import the appropriate estimator class from Scikit-Learn\n",
        "from sklearn.linear_model import LinearRegression"
      ],
      "execution_count": 0,
      "outputs": []
    },
    {
      "cell_type": "code",
      "metadata": {
        "id": "oAOICsPyf6wZ",
        "colab_type": "code",
        "colab": {}
      },
      "source": [
        "# 2. Instantiate this class\n",
        "model = LinearRegression()"
      ],
      "execution_count": 0,
      "outputs": []
    },
    {
      "cell_type": "code",
      "metadata": {
        "id": "pD8REkBFf6we",
        "colab_type": "code",
        "colab": {}
      },
      "source": [
        "# 3. Arrange X features matrix & y target vector\n",
        "features = ['GROSS_SQUARE_FEET']\n",
        "target = 'SALE_PRICE'\n",
        "\n",
        "X_train = df[features]\n",
        "y_train = df[target]"
      ],
      "execution_count": 0,
      "outputs": []
    },
    {
      "cell_type": "code",
      "metadata": {
        "id": "_5H72hDXf6wi",
        "colab_type": "code",
        "outputId": "1ea9277f-b9d6-461b-fb80-abe5feebdbcb",
        "colab": {
          "base_uri": "https://localhost:8080/",
          "height": 36
        }
      },
      "source": [
        "# 4. Fit the model\n",
        "model.fit(X_train, y_train)"
      ],
      "execution_count": 0,
      "outputs": [
        {
          "output_type": "execute_result",
          "data": {
            "text/plain": [
              "LinearRegression(copy_X=True, fit_intercept=True, n_jobs=None, normalize=False)"
            ]
          },
          "metadata": {
            "tags": []
          },
          "execution_count": 19
        }
      ]
    },
    {
      "cell_type": "code",
      "metadata": {
        "colab_type": "code",
        "id": "-JKp8OL9Wul6",
        "lines_to_next_cell": 2,
        "outputId": "4cde66c1-6d40-47bb-fe4b-fdc8599d0afc",
        "colab": {
          "base_uri": "https://localhost:8080/",
          "height": 36
        }
      },
      "source": [
        "# 5. Apply the model to new data\n",
        "square_feet = 1497\n",
        "X_test = [[square_feet]]\n",
        "y_pred = model.predict(X_test)\n",
        "y_pred"
      ],
      "execution_count": 0,
      "outputs": [
        {
          "output_type": "execute_result",
          "data": {
            "text/plain": [
              "array([3100078.09930369])"
            ]
          },
          "metadata": {
            "tags": []
          },
          "execution_count": 24
        }
      ]
    },
    {
      "cell_type": "markdown",
      "metadata": {
        "colab_type": "text",
        "id": "YNVE3zcaWul8"
      },
      "source": [
        "So, we used scikit-learn to fit a linear regression, and predicted the sales price for a 1,497 square foot Tribeca condo, like the one from the video.\n",
        "\n",
        "Now, what did that condo actually sell for? ___The final answer is revealed in [the video at 12:28](https://youtu.be/JQCctBOgH9I?t=748)!___"
      ]
    },
    {
      "cell_type": "code",
      "metadata": {
        "colab_type": "code",
        "id": "FTJ_rUokWul8",
        "colab": {}
      },
      "source": [
        "y_test = [2800000]"
      ],
      "execution_count": 0,
      "outputs": []
    },
    {
      "cell_type": "markdown",
      "metadata": {
        "colab_type": "text",
        "id": "tQLfHWLIWul-"
      },
      "source": [
        "What was the error for our prediction, versus the video participants?\n",
        "\n",
        "Let's use [scikit-learn's mean absolute error function](https://scikit-learn.org/stable/modules/generated/sklearn.metrics.mean_absolute_error.html)."
      ]
    },
    {
      "cell_type": "code",
      "metadata": {
        "colab_type": "code",
        "id": "wr6md1nQWul_",
        "colab": {}
      },
      "source": [
        "chinwe_final_guess = [15000000]\n",
        "mubeen_final_guess = [2200000]\n",
        "pam_final_guess = [2200000]"
      ],
      "execution_count": 0,
      "outputs": []
    },
    {
      "cell_type": "code",
      "metadata": {
        "colab_type": "code",
        "id": "fVPic_coWumA",
        "outputId": "28410437-1298-4a22-f555-8cdb02d056de",
        "colab": {
          "base_uri": "https://localhost:8080/",
          "height": 36
        }
      },
      "source": [
        "from sklearn.metrics import mean_absolute_error\n",
        "\n",
        "mae = mean_absolute_error(y_test, y_pred)\n",
        "print(f\"Our model's error: ${mae:.0f}\")"
      ],
      "execution_count": 0,
      "outputs": [
        {
          "output_type": "stream",
          "text": [
            "Our model's error: $300078\n"
          ],
          "name": "stdout"
        }
      ]
    },
    {
      "cell_type": "markdown",
      "metadata": {
        "colab_type": "text",
        "id": "ZfoKMo8WWumI"
      },
      "source": [
        "This [diagram](https://ogrisel.github.io/scikit-learn.org/sklearn-tutorial/tutorial/text_analytics/general_concepts.html#supervised-learning-model-fit-x-y) shows what we just did! Don't worry about understanding it all now. But can you start to match some of these boxes/arrows to the corresponding lines of code from above?\n",
        "\n",
        "<img src=\"https://ogrisel.github.io/scikit-learn.org/sklearn-tutorial/_images/plot_ML_flow_chart_12.png\" width=\"75%\">"
      ]
    },
    {
      "cell_type": "markdown",
      "metadata": {
        "id": "h7VwFMzsf6wz",
        "colab_type": "text"
      },
      "source": [
        "Here's [another diagram](https://livebook.manning.com/book/deep-learning-with-python/chapter-1/), which shows how machine learning is a \"new programming paradigm\":\n",
        "\n",
        "<img src=\"https://pbs.twimg.com/media/ECQDlFOWkAEJzlY.jpg\" width=\"70%\">\n",
        "\n",
        "> A machine learning system is \"trained\" rather than explicitly programmed. It is presented with many \"examples\" relevant to a task, and it finds statistical structure in these examples which eventually allows the system to come up with rules for automating the task. —[Francois Chollet](https://livebook.manning.com/book/deep-learning-with-python/chapter-1/)"
      ]
    },
    {
      "cell_type": "markdown",
      "metadata": {
        "colab_type": "text",
        "id": "jMw0m0XVSqNf"
      },
      "source": [
        "Wait, are we saying that *linear regression* could be considered a *machine learning algorithm*? Maybe it depends? What do you think? We'll discuss throughout this unit."
      ]
    },
    {
      "cell_type": "markdown",
      "metadata": {
        "colab_type": "text",
        "id": "02Aw_2vSWumM"
      },
      "source": [
        "## Challenge\n",
        "\n",
        "In your assignment, you will use scikit-learn for linear regression with one feature. For a stretch goal, you can do linear regression with two or more features."
      ]
    },
    {
      "cell_type": "markdown",
      "metadata": {
        "colab_type": "text",
        "id": "-26MCaeBWumM"
      },
      "source": [
        "# Explain the coefficients from a linear regression"
      ]
    },
    {
      "cell_type": "markdown",
      "metadata": {
        "colab_type": "text",
        "id": "1YbqraQhWumN"
      },
      "source": [
        "## Overview\n",
        "\n",
        "What pattern did the model \"learn\", about the relationship between square feet & price?"
      ]
    },
    {
      "cell_type": "markdown",
      "metadata": {
        "colab_type": "text",
        "id": "xkgmcd4XWumO"
      },
      "source": [
        "## Follow Along"
      ]
    },
    {
      "cell_type": "markdown",
      "metadata": {
        "colab_type": "text",
        "id": "7QpkRN0PWumP"
      },
      "source": [
        "To help answer this question, we'll look at the  `coef_` and `intercept_` attributes of the `LinearRegression` object. (Again, [here's the documentation](https://scikit-learn.org/stable/modules/generated/sklearn.linear_model.LinearRegression.html).)\n"
      ]
    },
    {
      "cell_type": "code",
      "metadata": {
        "colab_type": "code",
        "id": "DLvncqJ0WumQ",
        "outputId": "5b6795fc-58f8-4dbb-c81e-77ec99ff768f",
        "colab": {
          "base_uri": "https://localhost:8080/",
          "height": 36
        }
      },
      "source": [
        "model.coef_"
      ],
      "execution_count": 0,
      "outputs": [
        {
          "output_type": "execute_result",
          "data": {
            "text/plain": [
              "array([3076.44765542])"
            ]
          },
          "metadata": {
            "tags": []
          },
          "execution_count": 36
        }
      ]
    },
    {
      "cell_type": "code",
      "metadata": {
        "id": "tXCXBqtx0FOo",
        "colab_type": "code",
        "outputId": "e67c6e65-79b1-468b-c27f-a5b7426d1bb5",
        "colab": {
          "base_uri": "https://localhost:8080/",
          "height": 36
        }
      },
      "source": [
        "model.intercept_"
      ],
      "execution_count": 0,
      "outputs": [
        {
          "output_type": "execute_result",
          "data": {
            "text/plain": [
              "-1505364.0408585514"
            ]
          },
          "metadata": {
            "tags": []
          },
          "execution_count": 37
        }
      ]
    },
    {
      "cell_type": "code",
      "metadata": {
        "id": "oBHPXPhp0NOq",
        "colab_type": "code",
        "outputId": "3e954372-1925-4b7d-fb9d-2c858c10ee44",
        "colab": {
          "base_uri": "https://localhost:8080/",
          "height": 73
        }
      },
      "source": [
        "print('y = m*x + b') # for 1D\n",
        "print('y = m_1*x_1 + m_2*x_2 + b') # for 2D\n",
        "print('y = m_1*x_1 + ... + m_n*x_n + b') # for n dimensions"
      ],
      "execution_count": 0,
      "outputs": [
        {
          "output_type": "stream",
          "text": [
            "y = m*x + b\n",
            "y = m_1*x_1 + m_2*x_2 + b\n",
            "y = m_1*x_1 + ... + m_n*x_n + b\n"
          ],
          "name": "stdout"
        }
      ]
    },
    {
      "cell_type": "code",
      "metadata": {
        "id": "ap-hm5aH0rAs",
        "colab_type": "code",
        "outputId": "4a7c6093-0f68-4bd6-ac78-5ff887c472cd",
        "colab": {
          "base_uri": "https://localhost:8080/",
          "height": 36
        }
      },
      "source": [
        "# y = 3076.44*x + (-1505364)\n",
        "m = model.coef_[0]\n",
        "b = model.intercept_\n",
        "y_pred = [m*1497 + b] # same as y_pred = model.predict([1497])\n",
        "y_pred"
      ],
      "execution_count": 0,
      "outputs": [
        {
          "output_type": "execute_result",
          "data": {
            "text/plain": [
              "[3100078.099303695]"
            ]
          },
          "metadata": {
            "tags": []
          },
          "execution_count": 40
        }
      ]
    },
    {
      "cell_type": "markdown",
      "metadata": {
        "colab_type": "text",
        "id": "mT5jM1M3WumW"
      },
      "source": [
        "We can repeatedly apply the model to new/unknown data, and explain the coefficient:"
      ]
    },
    {
      "cell_type": "code",
      "metadata": {
        "colab_type": "code",
        "id": "b2CEqLuxWumW",
        "outputId": "e6d5433c-d92a-4dd1-d67c-90cb3e9cc864",
        "colab": {
          "base_uri": "https://localhost:8080/",
          "height": 54
        }
      },
      "source": [
        "def predict(square_feet):\n",
        "    y_pred = model.predict([[square_feet]])\n",
        "    estimate = y_pred[0]\n",
        "    coefficient = model.coef_[0]\n",
        "    result = f'${estimate:,.0f} estimated price for {square_feet:,.0f} square foot condo in Tribeca.'\n",
        "    explanation = f'In this linear regression, each additional square foot adds ${coefficient:,.0f}.'\n",
        "    return result + '\\n' + explanation\n",
        "\n",
        "print(predict(1497))"
      ],
      "execution_count": 0,
      "outputs": [
        {
          "output_type": "stream",
          "text": [
            "$3,100,078 estimated price for 1,497 square foot condo in Tribeca.\n",
            "In this linear regression, each additional square foot adds $3,076.\n"
          ],
          "name": "stdout"
        }
      ]
    },
    {
      "cell_type": "code",
      "metadata": {
        "colab_type": "code",
        "id": "nE8wq6UCWumY",
        "outputId": "e9550dfc-4084-4eb6-b1b9-4c684f3e4dfe",
        "colab": {
          "base_uri": "https://localhost:8080/",
          "height": 54
        }
      },
      "source": [
        "# What does the model predict for low square footage?\n",
        "print(predict(500))"
      ],
      "execution_count": 0,
      "outputs": [
        {
          "output_type": "stream",
          "text": [
            "$32,860 estimated price for 500 square foot condo in Tribeca.\n",
            "In this linear regression, each additional square foot adds $3,076.\n"
          ],
          "name": "stdout"
        }
      ]
    },
    {
      "cell_type": "code",
      "metadata": {
        "colab_type": "code",
        "id": "haExj2STWumo",
        "outputId": "21edb6f9-77d0-46ee-cd56-407012e7abb3",
        "colab": {
          "base_uri": "https://localhost:8080/",
          "height": 54
        }
      },
      "source": [
        "# For high square footage?\n",
        "print(predict(10000))"
      ],
      "execution_count": 0,
      "outputs": [
        {
          "output_type": "stream",
          "text": [
            "$29,259,113 estimated price for 10,000 square foot condo in Tribeca.\n",
            "In this linear regression, each additional square foot adds $3,076.\n"
          ],
          "name": "stdout"
        }
      ]
    },
    {
      "cell_type": "code",
      "metadata": {
        "colab_type": "code",
        "id": "L7pX1Gk-Wump",
        "outputId": "19eeb21c-2bda-4d48-b454-988b0038a91f",
        "colab": {
          "base_uri": "https://localhost:8080/",
          "height": 86,
          "referenced_widgets": [
            "ae5c17dfd2234bc1a86a0122aeca96f3",
            "6ba9d86c6db142698c5dc1ffc1ea2614",
            "6bc4250d8e6f4625b972439c56899c28",
            "aff3387998154085a79cd491800110a0",
            "5459b4c293864225abb2cf9e328605af",
            "029e81cc02ed4a1eb32757ef04f847c3",
            "19dd3ec276944d61b9b037248417300f"
          ]
        }
      },
      "source": [
        "from ipywidgets import interact\n",
        "\n",
        "interact(predict, square_feet=(700, 5000))"
      ],
      "execution_count": 0,
      "outputs": [
        {
          "output_type": "display_data",
          "data": {
            "application/vnd.jupyter.widget-view+json": {
              "model_id": "ae5c17dfd2234bc1a86a0122aeca96f3",
              "version_minor": 0,
              "version_major": 2
            },
            "text/plain": [
              "interactive(children=(IntSlider(value=2850, description='square_feet', max=5000, min=700), Output()), _dom_cla…"
            ]
          },
          "metadata": {
            "tags": []
          }
        },
        {
          "output_type": "execute_result",
          "data": {
            "text/plain": [
              "<function __main__.predict>"
            ]
          },
          "metadata": {
            "tags": []
          },
          "execution_count": 44
        }
      ]
    },
    {
      "cell_type": "markdown",
      "metadata": {
        "colab_type": "text",
        "id": "UdSfm-RvWumv"
      },
      "source": [
        "## Challenge\n",
        "\n",
        "In your assignment, you will define a function to make new predictions and explain the model coefficient."
      ]
    },
    {
      "cell_type": "markdown",
      "metadata": {
        "colab_type": "text",
        "id": "mVb4SJ0lWumv"
      },
      "source": [
        "# Review"
      ]
    },
    {
      "cell_type": "markdown",
      "metadata": {
        "colab_type": "text",
        "id": "omXPxXZbWumw"
      },
      "source": [
        "You'll practice these objectives when you do your assignment:\n",
        "\n",
        "- Begin with baselines for regression\n",
        "- Use scikit-learn to fit a linear regression\n",
        "- Make new predictions and explain coefficients"
      ]
    },
    {
      "cell_type": "markdown",
      "metadata": {
        "colab_type": "text",
        "id": "DHJv-pWNWumw"
      },
      "source": [
        "You'll use another New York City real estate dataset. You'll predict how much it costs to rent an apartment, instead of how much it costs to buy a condo.\n",
        "\n",
        "You've been provided with a separate notebook for your assignment, which has all the instructions and stretch goals. Good luck and have fun!"
      ]
    },
    {
      "cell_type": "markdown",
      "metadata": {
        "colab_type": "text",
        "id": "Vz8oqh_8Wumw"
      },
      "source": [
        "# Sources\n",
        "\n",
        "#### NYC Real Estate\n",
        "- Video: [Amateurs & Experts Guess How Much a NYC Condo With a Private Terrace Costs](https://www.youtube.com/watch?v=JQCctBOgH9I)\n",
        "- Data: [NYC OpenData: NYC Citywide Rolling Calendar Sales](https://data.cityofnewyork.us/dataset/NYC-Citywide-Rolling-Calendar-Sales/usep-8jbt)\n",
        "- Glossary: [NYC Department of Finance: Rolling Sales Data](https://www1.nyc.gov/site/finance/taxes/property-rolling-sales-data.page)\n",
        "\n",
        "#### Baselines\n",
        "- Will Koehrsen, [\"One of the most important steps in a machine learning project is establishing a common sense baseline...\"](https://twitter.com/koehrsen_will/status/1088863527778111488)\n",
        "- Emmanuel Ameisen, [Always start with a stupid model, no exceptions](https://blog.insightdatascience.com/always-start-with-a-stupid-model-no-exceptions-3a22314b9aaa)\n",
        "- Robyn M. Dawes, [The robust beauty of improper linear models in decision making](http://citeseerx.ist.psu.edu/viewdoc/summary?doi=10.1.1.188.5825)\n",
        "\n",
        "#### Plotly Express\n",
        "- [Plotly Express](https://plot.ly/python/plotly-express/) examples\n",
        "- [plotly_express.scatter](https://www.plotly.express/plotly_express/#plotly_express.scatter) docs\n",
        "\n",
        "#### Scikit-Learn\n",
        "- Francois Chollet, [Diagram](https://livebook.manning.com/book/deep-learning-with-python/chapter-1/)\n",
        "- Jake VanderPlas, [_Python Data Science Handbook,_ Chapter 5.2: Introducing Scikit-Learn](https://jakevdp.github.io/PythonDataScienceHandbook/05.02-introducing-scikit-learn.html#Basics-of-the-API)\n",
        "- Olvier Grisel, [Diagram](https://ogrisel.github.io/scikit-learn.org/sklearn-tutorial/tutorial/text_analytics/general_concepts.html#supervised-learning-model-fit-x-y)\n",
        "- [sklearn.linear_model.LinearRegression](https://scikit-learn.org/stable/modules/generated/sklearn.linear_model.LinearRegression.html)\n",
        "- [sklearn.metrics.mean_absolute_error](https://scikit-learn.org/stable/modules/generated/sklearn.metrics.mean_absolute_error.html)"
      ]
    }
  ]
}